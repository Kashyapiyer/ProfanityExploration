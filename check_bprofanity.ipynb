{
  "cells": [
    {
      "cell_type": "code",
      "execution_count": 1,
      "metadata": {
        "id": "3Y8McmVxKT20"
      },
      "outputs": [],
      "source": [
        "!pip install -q -r  requirements.txt"
      ]
    },
    {
      "cell_type": "code",
      "source": [
        "from hputils import *\n",
        "import pandas as pd\n",
        "from better_profanity import profanity\n",
        "from profanitychecker import *"
      ],
      "metadata": {
        "id": "LO69I59DftDI"
      },
      "execution_count": 1,
      "outputs": []
    },
    {
      "cell_type": "code",
      "source": [
        "testdfone = load_hf_dataset(dspath='Sowmya15/profanity',asdf=True,splitselect='train')"
      ],
      "metadata": {
        "id": "JUcn4y2WwD8p"
      },
      "execution_count": 2,
      "outputs": []
    },
    {
      "cell_type": "code",
      "source": [
        "fdfone = testdfone[testdfone['language'].isin(['English'])]\n",
        "fdfone['cleantext'] =  fdfone['text'].apply(lambda t: demoizefy(t))"
      ],
      "metadata": {
        "id": "XhiMPx7XG3GR"
      },
      "execution_count": 3,
      "outputs": []
    },
    {
      "cell_type": "code",
      "source": [
        "fdfone.to_csv('profanity_enfromsowmya15.csv')"
      ],
      "metadata": {
        "id": "tPX6gSikS23w"
      },
      "execution_count": 4,
      "outputs": []
    },
    {
      "cell_type": "markdown",
      "source": [],
      "metadata": {
        "id": "JrcI5uq9HCx8"
      }
    },
    {
      "cell_type": "code",
      "source": [
        "fdfone.shape"
      ],
      "metadata": {
        "colab": {
          "base_uri": "https://localhost:8080/"
        },
        "id": "Tl7skb4-CcHF",
        "outputId": "59c77292-267a-4c03-9bff-2a322ca99293"
      },
      "execution_count": 5,
      "outputs": [
        {
          "output_type": "execute_result",
          "data": {
            "text/plain": [
              "(7946, 5)"
            ]
          },
          "metadata": {},
          "execution_count": 5
        }
      ]
    },
    {
      "cell_type": "code",
      "source": [
        "fdfone.head(10)"
      ],
      "metadata": {
        "id": "EjY2eR53LErI"
      },
      "execution_count": null,
      "outputs": []
    },
    {
      "cell_type": "code",
      "source": [
        "filt_fdf = fdfone[fdfone.index.isin([8,11,24,43,44,47,54,57,53])]"
      ],
      "metadata": {
        "id": "4H-Rv0a4KH0X"
      },
      "execution_count": 6,
      "outputs": []
    },
    {
      "cell_type": "code",
      "source": [
        "filt_fdf"
      ],
      "metadata": {
        "colab": {
          "base_uri": "https://localhost:8080/",
          "height": 405
        },
        "id": "EOtt8Z8q1B6G",
        "outputId": "259edd0e-2cdc-42ee-96fc-05d5ef532abb"
      },
      "execution_count": 7,
      "outputs": [
        {
          "output_type": "execute_result",
          "data": {
            "text/plain": [
              "    Unnamed: 0                                                                                                                   text  label language  \\\n",
              "8        23680                                                                                        ðð thas it right there         0  English   \n",
              "11       39158                                                                         downtime lunchtime @user #unique   #inclusive       0  English   \n",
              "24       49586                                                                             Rosco would get jealous though. He a bitch      1  English   \n",
              "43       64362     #udtapunjab in today's paper. #bjp  , no one is #defamingpunjab it's already defamed. wake up,it's never too late       0  English   \n",
              "44       57358                                  @user aaron is happy and happy |   #smile #handsomeboy #handsomeguy #aaronrhodes #la       0  English   \n",
              "47       62298             RT @Trap_Jesus: Never seen a nigga get laughed at when he got his test back and it was an A on that bitch.      1  English   \n",
              "54         292  &#8220;@Thatindianbruh: Food &gt; Pussy \\n\\nbut pussy = Food \\n\\nso food &#8805; pussy.&#8221; http://t.co/ZJ3zyduxkO      1  English   \n",
              "57       18783          #arkansas   gorilla simulator: you need to do to adapt to the environment. the need to tear the city. materi       0  English   \n",
              "\n",
              "                                                                                                                cleantext  \n",
              "8                                                                                                  thas it right there     \n",
              "11                                                                         downtime lunchtime @user #unique   #inclusive   \n",
              "24                                                                             Rosco would get jealous though. He a bitch  \n",
              "43     #udtapunjab in today's paper. #bjp  , no one is #defamingpunjab it's already defamed. wake up,it's never too late   \n",
              "44                                  @user aaron is happy and happy |   #smile #handsomeboy #handsomeguy #aaronrhodes #la   \n",
              "47             RT @Trap_Jesus: Never seen a nigga get laughed at when he got his test back and it was an A on that bitch.  \n",
              "54  &#8220;@Thatindianbruh: Food &gt; Pussy \\n\\nbut pussy = Food \\n\\nso food &#8805; pussy.&#8221; http://t.co/ZJ3zyduxkO  \n",
              "57          #arkansas   gorilla simulator: you need to do to adapt to the environment. the need to tear the city. materi   "
            ],
            "text/html": [
              "\n",
              "  <div id=\"df-3da4241c-b024-4faa-901c-cb21cb0d1bcb\" class=\"colab-df-container\">\n",
              "    <div>\n",
              "<style scoped>\n",
              "    .dataframe tbody tr th:only-of-type {\n",
              "        vertical-align: middle;\n",
              "    }\n",
              "\n",
              "    .dataframe tbody tr th {\n",
              "        vertical-align: top;\n",
              "    }\n",
              "\n",
              "    .dataframe thead th {\n",
              "        text-align: right;\n",
              "    }\n",
              "</style>\n",
              "<table border=\"1\" class=\"dataframe\">\n",
              "  <thead>\n",
              "    <tr style=\"text-align: right;\">\n",
              "      <th></th>\n",
              "      <th>Unnamed: 0</th>\n",
              "      <th>text</th>\n",
              "      <th>label</th>\n",
              "      <th>language</th>\n",
              "      <th>cleantext</th>\n",
              "    </tr>\n",
              "  </thead>\n",
              "  <tbody>\n",
              "    <tr>\n",
              "      <th>8</th>\n",
              "      <td>23680</td>\n",
              "      <td>ðð thas it right there</td>\n",
              "      <td>0</td>\n",
              "      <td>English</td>\n",
              "      <td>thas it right there</td>\n",
              "    </tr>\n",
              "    <tr>\n",
              "      <th>11</th>\n",
              "      <td>39158</td>\n",
              "      <td>downtime lunchtime @user #unique   #inclusive</td>\n",
              "      <td>0</td>\n",
              "      <td>English</td>\n",
              "      <td>downtime lunchtime @user #unique   #inclusive</td>\n",
              "    </tr>\n",
              "    <tr>\n",
              "      <th>24</th>\n",
              "      <td>49586</td>\n",
              "      <td>Rosco would get jealous though. He a bitch</td>\n",
              "      <td>1</td>\n",
              "      <td>English</td>\n",
              "      <td>Rosco would get jealous though. He a bitch</td>\n",
              "    </tr>\n",
              "    <tr>\n",
              "      <th>43</th>\n",
              "      <td>64362</td>\n",
              "      <td>#udtapunjab in today's paper. #bjp  , no one is #defamingpunjab it's already defamed. wake up,it's never too late</td>\n",
              "      <td>0</td>\n",
              "      <td>English</td>\n",
              "      <td>#udtapunjab in today's paper. #bjp  , no one is #defamingpunjab it's already defamed. wake up,it's never too late</td>\n",
              "    </tr>\n",
              "    <tr>\n",
              "      <th>44</th>\n",
              "      <td>57358</td>\n",
              "      <td>@user aaron is happy and happy |   #smile #handsomeboy #handsomeguy #aaronrhodes #la</td>\n",
              "      <td>0</td>\n",
              "      <td>English</td>\n",
              "      <td>@user aaron is happy and happy |   #smile #handsomeboy #handsomeguy #aaronrhodes #la</td>\n",
              "    </tr>\n",
              "    <tr>\n",
              "      <th>47</th>\n",
              "      <td>62298</td>\n",
              "      <td>RT @Trap_Jesus: Never seen a nigga get laughed at when he got his test back and it was an A on that bitch.</td>\n",
              "      <td>1</td>\n",
              "      <td>English</td>\n",
              "      <td>RT @Trap_Jesus: Never seen a nigga get laughed at when he got his test back and it was an A on that bitch.</td>\n",
              "    </tr>\n",
              "    <tr>\n",
              "      <th>54</th>\n",
              "      <td>292</td>\n",
              "      <td>&amp;#8220;@Thatindianbruh: Food &amp;gt; Pussy \\n\\nbut pussy = Food \\n\\nso food &amp;#8805; pussy.&amp;#8221; http://t.co/ZJ3zyduxkO</td>\n",
              "      <td>1</td>\n",
              "      <td>English</td>\n",
              "      <td>&amp;#8220;@Thatindianbruh: Food &amp;gt; Pussy \\n\\nbut pussy = Food \\n\\nso food &amp;#8805; pussy.&amp;#8221; http://t.co/ZJ3zyduxkO</td>\n",
              "    </tr>\n",
              "    <tr>\n",
              "      <th>57</th>\n",
              "      <td>18783</td>\n",
              "      <td>#arkansas   gorilla simulator: you need to do to adapt to the environment. the need to tear the city. materi</td>\n",
              "      <td>0</td>\n",
              "      <td>English</td>\n",
              "      <td>#arkansas   gorilla simulator: you need to do to adapt to the environment. the need to tear the city. materi</td>\n",
              "    </tr>\n",
              "  </tbody>\n",
              "</table>\n",
              "</div>\n",
              "    <div class=\"colab-df-buttons\">\n",
              "\n",
              "  <div class=\"colab-df-container\">\n",
              "    <button class=\"colab-df-convert\" onclick=\"convertToInteractive('df-3da4241c-b024-4faa-901c-cb21cb0d1bcb')\"\n",
              "            title=\"Convert this dataframe to an interactive table.\"\n",
              "            style=\"display:none;\">\n",
              "\n",
              "  <svg xmlns=\"http://www.w3.org/2000/svg\" height=\"24px\" viewBox=\"0 -960 960 960\">\n",
              "    <path d=\"M120-120v-720h720v720H120Zm60-500h600v-160H180v160Zm220 220h160v-160H400v160Zm0 220h160v-160H400v160ZM180-400h160v-160H180v160Zm440 0h160v-160H620v160ZM180-180h160v-160H180v160Zm440 0h160v-160H620v160Z\"/>\n",
              "  </svg>\n",
              "    </button>\n",
              "\n",
              "  <style>\n",
              "    .colab-df-container {\n",
              "      display:flex;\n",
              "      gap: 12px;\n",
              "    }\n",
              "\n",
              "    .colab-df-convert {\n",
              "      background-color: #E8F0FE;\n",
              "      border: none;\n",
              "      border-radius: 50%;\n",
              "      cursor: pointer;\n",
              "      display: none;\n",
              "      fill: #1967D2;\n",
              "      height: 32px;\n",
              "      padding: 0 0 0 0;\n",
              "      width: 32px;\n",
              "    }\n",
              "\n",
              "    .colab-df-convert:hover {\n",
              "      background-color: #E2EBFA;\n",
              "      box-shadow: 0px 1px 2px rgba(60, 64, 67, 0.3), 0px 1px 3px 1px rgba(60, 64, 67, 0.15);\n",
              "      fill: #174EA6;\n",
              "    }\n",
              "\n",
              "    .colab-df-buttons div {\n",
              "      margin-bottom: 4px;\n",
              "    }\n",
              "\n",
              "    [theme=dark] .colab-df-convert {\n",
              "      background-color: #3B4455;\n",
              "      fill: #D2E3FC;\n",
              "    }\n",
              "\n",
              "    [theme=dark] .colab-df-convert:hover {\n",
              "      background-color: #434B5C;\n",
              "      box-shadow: 0px 1px 3px 1px rgba(0, 0, 0, 0.15);\n",
              "      filter: drop-shadow(0px 1px 2px rgba(0, 0, 0, 0.3));\n",
              "      fill: #FFFFFF;\n",
              "    }\n",
              "  </style>\n",
              "\n",
              "    <script>\n",
              "      const buttonEl =\n",
              "        document.querySelector('#df-3da4241c-b024-4faa-901c-cb21cb0d1bcb button.colab-df-convert');\n",
              "      buttonEl.style.display =\n",
              "        google.colab.kernel.accessAllowed ? 'block' : 'none';\n",
              "\n",
              "      async function convertToInteractive(key) {\n",
              "        const element = document.querySelector('#df-3da4241c-b024-4faa-901c-cb21cb0d1bcb');\n",
              "        const dataTable =\n",
              "          await google.colab.kernel.invokeFunction('convertToInteractive',\n",
              "                                                    [key], {});\n",
              "        if (!dataTable) return;\n",
              "\n",
              "        const docLinkHtml = 'Like what you see? Visit the ' +\n",
              "          '<a target=\"_blank\" href=https://colab.research.google.com/notebooks/data_table.ipynb>data table notebook</a>'\n",
              "          + ' to learn more about interactive tables.';\n",
              "        element.innerHTML = '';\n",
              "        dataTable['output_type'] = 'display_data';\n",
              "        await google.colab.output.renderOutput(dataTable, element);\n",
              "        const docLink = document.createElement('div');\n",
              "        docLink.innerHTML = docLinkHtml;\n",
              "        element.appendChild(docLink);\n",
              "      }\n",
              "    </script>\n",
              "  </div>\n",
              "\n",
              "\n",
              "<div id=\"df-bfd921fc-785c-45ff-8c80-fabe29659a68\">\n",
              "  <button class=\"colab-df-quickchart\" onclick=\"quickchart('df-bfd921fc-785c-45ff-8c80-fabe29659a68')\"\n",
              "            title=\"Suggest charts\"\n",
              "            style=\"display:none;\">\n",
              "\n",
              "<svg xmlns=\"http://www.w3.org/2000/svg\" height=\"24px\"viewBox=\"0 0 24 24\"\n",
              "     width=\"24px\">\n",
              "    <g>\n",
              "        <path d=\"M19 3H5c-1.1 0-2 .9-2 2v14c0 1.1.9 2 2 2h14c1.1 0 2-.9 2-2V5c0-1.1-.9-2-2-2zM9 17H7v-7h2v7zm4 0h-2V7h2v10zm4 0h-2v-4h2v4z\"/>\n",
              "    </g>\n",
              "</svg>\n",
              "  </button>\n",
              "\n",
              "<style>\n",
              "  .colab-df-quickchart {\n",
              "      --bg-color: #E8F0FE;\n",
              "      --fill-color: #1967D2;\n",
              "      --hover-bg-color: #E2EBFA;\n",
              "      --hover-fill-color: #174EA6;\n",
              "      --disabled-fill-color: #AAA;\n",
              "      --disabled-bg-color: #DDD;\n",
              "  }\n",
              "\n",
              "  [theme=dark] .colab-df-quickchart {\n",
              "      --bg-color: #3B4455;\n",
              "      --fill-color: #D2E3FC;\n",
              "      --hover-bg-color: #434B5C;\n",
              "      --hover-fill-color: #FFFFFF;\n",
              "      --disabled-bg-color: #3B4455;\n",
              "      --disabled-fill-color: #666;\n",
              "  }\n",
              "\n",
              "  .colab-df-quickchart {\n",
              "    background-color: var(--bg-color);\n",
              "    border: none;\n",
              "    border-radius: 50%;\n",
              "    cursor: pointer;\n",
              "    display: none;\n",
              "    fill: var(--fill-color);\n",
              "    height: 32px;\n",
              "    padding: 0;\n",
              "    width: 32px;\n",
              "  }\n",
              "\n",
              "  .colab-df-quickchart:hover {\n",
              "    background-color: var(--hover-bg-color);\n",
              "    box-shadow: 0 1px 2px rgba(60, 64, 67, 0.3), 0 1px 3px 1px rgba(60, 64, 67, 0.15);\n",
              "    fill: var(--button-hover-fill-color);\n",
              "  }\n",
              "\n",
              "  .colab-df-quickchart-complete:disabled,\n",
              "  .colab-df-quickchart-complete:disabled:hover {\n",
              "    background-color: var(--disabled-bg-color);\n",
              "    fill: var(--disabled-fill-color);\n",
              "    box-shadow: none;\n",
              "  }\n",
              "\n",
              "  .colab-df-spinner {\n",
              "    border: 2px solid var(--fill-color);\n",
              "    border-color: transparent;\n",
              "    border-bottom-color: var(--fill-color);\n",
              "    animation:\n",
              "      spin 1s steps(1) infinite;\n",
              "  }\n",
              "\n",
              "  @keyframes spin {\n",
              "    0% {\n",
              "      border-color: transparent;\n",
              "      border-bottom-color: var(--fill-color);\n",
              "      border-left-color: var(--fill-color);\n",
              "    }\n",
              "    20% {\n",
              "      border-color: transparent;\n",
              "      border-left-color: var(--fill-color);\n",
              "      border-top-color: var(--fill-color);\n",
              "    }\n",
              "    30% {\n",
              "      border-color: transparent;\n",
              "      border-left-color: var(--fill-color);\n",
              "      border-top-color: var(--fill-color);\n",
              "      border-right-color: var(--fill-color);\n",
              "    }\n",
              "    40% {\n",
              "      border-color: transparent;\n",
              "      border-right-color: var(--fill-color);\n",
              "      border-top-color: var(--fill-color);\n",
              "    }\n",
              "    60% {\n",
              "      border-color: transparent;\n",
              "      border-right-color: var(--fill-color);\n",
              "    }\n",
              "    80% {\n",
              "      border-color: transparent;\n",
              "      border-right-color: var(--fill-color);\n",
              "      border-bottom-color: var(--fill-color);\n",
              "    }\n",
              "    90% {\n",
              "      border-color: transparent;\n",
              "      border-bottom-color: var(--fill-color);\n",
              "    }\n",
              "  }\n",
              "</style>\n",
              "\n",
              "  <script>\n",
              "    async function quickchart(key) {\n",
              "      const quickchartButtonEl =\n",
              "        document.querySelector('#' + key + ' button');\n",
              "      quickchartButtonEl.disabled = true;  // To prevent multiple clicks.\n",
              "      quickchartButtonEl.classList.add('colab-df-spinner');\n",
              "      try {\n",
              "        const charts = await google.colab.kernel.invokeFunction(\n",
              "            'suggestCharts', [key], {});\n",
              "      } catch (error) {\n",
              "        console.error('Error during call to suggestCharts:', error);\n",
              "      }\n",
              "      quickchartButtonEl.classList.remove('colab-df-spinner');\n",
              "      quickchartButtonEl.classList.add('colab-df-quickchart-complete');\n",
              "    }\n",
              "    (() => {\n",
              "      let quickchartButtonEl =\n",
              "        document.querySelector('#df-bfd921fc-785c-45ff-8c80-fabe29659a68 button');\n",
              "      quickchartButtonEl.style.display =\n",
              "        google.colab.kernel.accessAllowed ? 'block' : 'none';\n",
              "    })();\n",
              "  </script>\n",
              "</div>\n",
              "\n",
              "  <div id=\"id_f3f8b4bc-16c3-46b9-93f4-239c4e4e1d2a\">\n",
              "    <style>\n",
              "      .colab-df-generate {\n",
              "        background-color: #E8F0FE;\n",
              "        border: none;\n",
              "        border-radius: 50%;\n",
              "        cursor: pointer;\n",
              "        display: none;\n",
              "        fill: #1967D2;\n",
              "        height: 32px;\n",
              "        padding: 0 0 0 0;\n",
              "        width: 32px;\n",
              "      }\n",
              "\n",
              "      .colab-df-generate:hover {\n",
              "        background-color: #E2EBFA;\n",
              "        box-shadow: 0px 1px 2px rgba(60, 64, 67, 0.3), 0px 1px 3px 1px rgba(60, 64, 67, 0.15);\n",
              "        fill: #174EA6;\n",
              "      }\n",
              "\n",
              "      [theme=dark] .colab-df-generate {\n",
              "        background-color: #3B4455;\n",
              "        fill: #D2E3FC;\n",
              "      }\n",
              "\n",
              "      [theme=dark] .colab-df-generate:hover {\n",
              "        background-color: #434B5C;\n",
              "        box-shadow: 0px 1px 3px 1px rgba(0, 0, 0, 0.15);\n",
              "        filter: drop-shadow(0px 1px 2px rgba(0, 0, 0, 0.3));\n",
              "        fill: #FFFFFF;\n",
              "      }\n",
              "    </style>\n",
              "    <button class=\"colab-df-generate\" onclick=\"generateWithVariable('filt_fdf')\"\n",
              "            title=\"Generate code using this dataframe.\"\n",
              "            style=\"display:none;\">\n",
              "\n",
              "  <svg xmlns=\"http://www.w3.org/2000/svg\" height=\"24px\"viewBox=\"0 0 24 24\"\n",
              "       width=\"24px\">\n",
              "    <path d=\"M7,19H8.4L18.45,9,17,7.55,7,17.6ZM5,21V16.75L18.45,3.32a2,2,0,0,1,2.83,0l1.4,1.43a1.91,1.91,0,0,1,.58,1.4,1.91,1.91,0,0,1-.58,1.4L9.25,21ZM18.45,9,17,7.55Zm-12,3A5.31,5.31,0,0,0,4.9,8.1,5.31,5.31,0,0,0,1,6.5,5.31,5.31,0,0,0,4.9,4.9,5.31,5.31,0,0,0,6.5,1,5.31,5.31,0,0,0,8.1,4.9,5.31,5.31,0,0,0,12,6.5,5.46,5.46,0,0,0,6.5,12Z\"/>\n",
              "  </svg>\n",
              "    </button>\n",
              "    <script>\n",
              "      (() => {\n",
              "      const buttonEl =\n",
              "        document.querySelector('#id_f3f8b4bc-16c3-46b9-93f4-239c4e4e1d2a button.colab-df-generate');\n",
              "      buttonEl.style.display =\n",
              "        google.colab.kernel.accessAllowed ? 'block' : 'none';\n",
              "\n",
              "      buttonEl.onclick = () => {\n",
              "        google.colab.notebook.generateWithVariable('filt_fdf');\n",
              "      }\n",
              "      })();\n",
              "    </script>\n",
              "  </div>\n",
              "\n",
              "    </div>\n",
              "  </div>\n"
            ],
            "application/vnd.google.colaboratory.intrinsic+json": {
              "type": "dataframe",
              "variable_name": "filt_fdf",
              "summary": "{\n  \"name\": \"filt_fdf\",\n  \"rows\": 8,\n  \"fields\": [\n    {\n      \"column\": \"Unnamed: 0\",\n      \"properties\": {\n        \"dtype\": \"number\",\n        \"std\": 23223,\n        \"min\": 292,\n        \"max\": 64362,\n        \"num_unique_values\": 8,\n        \"samples\": [\n          39158,\n          62298,\n          23680\n        ],\n        \"semantic_type\": \"\",\n        \"description\": \"\"\n      }\n    },\n    {\n      \"column\": \"text\",\n      \"properties\": {\n        \"dtype\": \"string\",\n        \"num_unique_values\": 8,\n        \"samples\": [\n          \"downtime lunchtime @user #unique   #inclusive \",\n          \"RT @Trap_Jesus: Never seen a nigga get laughed at when he got his test back and it was an A on that bitch.\",\n          \"\\u00f0\\u009f\\u0098\\u0094\\u00f0\\u009f\\u0098\\u0094 thas it right there   \"\n        ],\n        \"semantic_type\": \"\",\n        \"description\": \"\"\n      }\n    },\n    {\n      \"column\": \"label\",\n      \"properties\": {\n        \"dtype\": \"number\",\n        \"std\": 0,\n        \"min\": 0,\n        \"max\": 1,\n        \"num_unique_values\": 2,\n        \"samples\": [\n          1,\n          0\n        ],\n        \"semantic_type\": \"\",\n        \"description\": \"\"\n      }\n    },\n    {\n      \"column\": \"language\",\n      \"properties\": {\n        \"dtype\": \"category\",\n        \"num_unique_values\": 1,\n        \"samples\": [\n          \"English\"\n        ],\n        \"semantic_type\": \"\",\n        \"description\": \"\"\n      }\n    },\n    {\n      \"column\": \"cleantext\",\n      \"properties\": {\n        \"dtype\": \"string\",\n        \"num_unique_values\": 8,\n        \"samples\": [\n          \"downtime lunchtime @user #unique   #inclusive \"\n        ],\n        \"semantic_type\": \"\",\n        \"description\": \"\"\n      }\n    }\n  ]\n}"
            }
          },
          "metadata": {},
          "execution_count": 7
        }
      ]
    },
    {
      "cell_type": "code",
      "source": [
        "result_fdfone = calculateprofanity(df=filt_fdf, contextstrcol='cleantext', gtlabel='label',censor=True)"
      ],
      "metadata": {
        "id": "fUfTjzauKOky"
      },
      "execution_count": 8,
      "outputs": []
    },
    {
      "cell_type": "code",
      "source": [
        "result_fdfone"
      ],
      "metadata": {
        "colab": {
          "base_uri": "https://localhost:8080/",
          "height": 720
        },
        "id": "NgVrTWbWLVFS",
        "outputId": "e01fb9f7-7ce2-4aca-da3c-78b337416074"
      },
      "execution_count": 9,
      "outputs": [
        {
          "output_type": "execute_result",
          "data": {
            "text/plain": [
              "    Unnamed: 0                                                                                                                   text  label language  \\\n",
              "8        23680                                                                                        ðð thas it right there         0  English   \n",
              "11       39158                                                                         downtime lunchtime @user #unique   #inclusive       0  English   \n",
              "24       49586                                                                             Rosco would get jealous though. He a bitch      1  English   \n",
              "43       64362     #udtapunjab in today's paper. #bjp  , no one is #defamingpunjab it's already defamed. wake up,it's never too late       0  English   \n",
              "44       57358                                  @user aaron is happy and happy |   #smile #handsomeboy #handsomeguy #aaronrhodes #la       0  English   \n",
              "47       62298             RT @Trap_Jesus: Never seen a nigga get laughed at when he got his test back and it was an A on that bitch.      1  English   \n",
              "54         292  &#8220;@Thatindianbruh: Food &gt; Pussy \\n\\nbut pussy = Food \\n\\nso food &#8805; pussy.&#8221; http://t.co/ZJ3zyduxkO      1  English   \n",
              "57       18783          #arkansas   gorilla simulator: you need to do to adapt to the environment. the need to tear the city. materi       0  English   \n",
              "\n",
              "                                                                                                                cleantext  profanity_result  \\\n",
              "8                                                                                                  thas it right there                False   \n",
              "11                                                                         downtime lunchtime @user #unique   #inclusive              False   \n",
              "24                                                                             Rosco would get jealous though. He a bitch              True   \n",
              "43     #udtapunjab in today's paper. #bjp  , no one is #defamingpunjab it's already defamed. wake up,it's never too late              False   \n",
              "44                                  @user aaron is happy and happy |   #smile #handsomeboy #handsomeguy #aaronrhodes #la              False   \n",
              "47             RT @Trap_Jesus: Never seen a nigga get laughed at when he got his test back and it was an A on that bitch.              True   \n",
              "54  &#8220;@Thatindianbruh: Food &gt; Pussy \\n\\nbut pussy = Food \\n\\nso food &#8805; pussy.&#8221; http://t.co/ZJ3zyduxkO              True   \n",
              "57          #arkansas   gorilla simulator: you need to do to adapt to the environment. the need to tear the city. materi              False   \n",
              "\n",
              "                                                                                                         censored_text  has_profanity  match  \n",
              "8                                                                                               thas it right there                 0   True  \n",
              "11                                                                      downtime lunchtime @user #unique   #inclusive               0   True  \n",
              "24                                                                           Rosco would get jealous though. He a ****              1   True  \n",
              "43  #udtapunjab in today's paper. #bjp  , no one is #defamingpunjab it's already defamed. wake up,it's never too late               0   True  \n",
              "44                               @user aaron is happy and happy |   #smile #handsomeboy #handsomeguy #aaronrhodes #la               0   True  \n",
              "47            RT @Trap_Jesus: Never seen a **** get laughed at when he got his test back and it was an A on that ****.              1   True  \n",
              "54  &#8220;@Thatindianbruh: Food &gt; **** \\n\\nbut **** = Food \\n\\nso food &#8805; ****.&#8221; http://t.co/ZJ3zyduxkO              1   True  \n",
              "57       #arkansas   gorilla simulator: you need to do to adapt to the environment. the need to tear the city. materi               0   True  "
            ],
            "text/html": [
              "\n",
              "  <div id=\"df-3496b17f-a67b-4279-ae2a-93eaf1ebcc04\" class=\"colab-df-container\">\n",
              "    <div>\n",
              "<style scoped>\n",
              "    .dataframe tbody tr th:only-of-type {\n",
              "        vertical-align: middle;\n",
              "    }\n",
              "\n",
              "    .dataframe tbody tr th {\n",
              "        vertical-align: top;\n",
              "    }\n",
              "\n",
              "    .dataframe thead th {\n",
              "        text-align: right;\n",
              "    }\n",
              "</style>\n",
              "<table border=\"1\" class=\"dataframe\">\n",
              "  <thead>\n",
              "    <tr style=\"text-align: right;\">\n",
              "      <th></th>\n",
              "      <th>Unnamed: 0</th>\n",
              "      <th>text</th>\n",
              "      <th>label</th>\n",
              "      <th>language</th>\n",
              "      <th>cleantext</th>\n",
              "      <th>profanity_result</th>\n",
              "      <th>censored_text</th>\n",
              "      <th>has_profanity</th>\n",
              "      <th>match</th>\n",
              "    </tr>\n",
              "  </thead>\n",
              "  <tbody>\n",
              "    <tr>\n",
              "      <th>8</th>\n",
              "      <td>23680</td>\n",
              "      <td>ðð thas it right there</td>\n",
              "      <td>0</td>\n",
              "      <td>English</td>\n",
              "      <td>thas it right there</td>\n",
              "      <td>False</td>\n",
              "      <td>thas it right there</td>\n",
              "      <td>0</td>\n",
              "      <td>True</td>\n",
              "    </tr>\n",
              "    <tr>\n",
              "      <th>11</th>\n",
              "      <td>39158</td>\n",
              "      <td>downtime lunchtime @user #unique   #inclusive</td>\n",
              "      <td>0</td>\n",
              "      <td>English</td>\n",
              "      <td>downtime lunchtime @user #unique   #inclusive</td>\n",
              "      <td>False</td>\n",
              "      <td>downtime lunchtime @user #unique   #inclusive</td>\n",
              "      <td>0</td>\n",
              "      <td>True</td>\n",
              "    </tr>\n",
              "    <tr>\n",
              "      <th>24</th>\n",
              "      <td>49586</td>\n",
              "      <td>Rosco would get jealous though. He a bitch</td>\n",
              "      <td>1</td>\n",
              "      <td>English</td>\n",
              "      <td>Rosco would get jealous though. He a bitch</td>\n",
              "      <td>True</td>\n",
              "      <td>Rosco would get jealous though. He a ****</td>\n",
              "      <td>1</td>\n",
              "      <td>True</td>\n",
              "    </tr>\n",
              "    <tr>\n",
              "      <th>43</th>\n",
              "      <td>64362</td>\n",
              "      <td>#udtapunjab in today's paper. #bjp  , no one is #defamingpunjab it's already defamed. wake up,it's never too late</td>\n",
              "      <td>0</td>\n",
              "      <td>English</td>\n",
              "      <td>#udtapunjab in today's paper. #bjp  , no one is #defamingpunjab it's already defamed. wake up,it's never too late</td>\n",
              "      <td>False</td>\n",
              "      <td>#udtapunjab in today's paper. #bjp  , no one is #defamingpunjab it's already defamed. wake up,it's never too late</td>\n",
              "      <td>0</td>\n",
              "      <td>True</td>\n",
              "    </tr>\n",
              "    <tr>\n",
              "      <th>44</th>\n",
              "      <td>57358</td>\n",
              "      <td>@user aaron is happy and happy |   #smile #handsomeboy #handsomeguy #aaronrhodes #la</td>\n",
              "      <td>0</td>\n",
              "      <td>English</td>\n",
              "      <td>@user aaron is happy and happy |   #smile #handsomeboy #handsomeguy #aaronrhodes #la</td>\n",
              "      <td>False</td>\n",
              "      <td>@user aaron is happy and happy |   #smile #handsomeboy #handsomeguy #aaronrhodes #la</td>\n",
              "      <td>0</td>\n",
              "      <td>True</td>\n",
              "    </tr>\n",
              "    <tr>\n",
              "      <th>47</th>\n",
              "      <td>62298</td>\n",
              "      <td>RT @Trap_Jesus: Never seen a nigga get laughed at when he got his test back and it was an A on that bitch.</td>\n",
              "      <td>1</td>\n",
              "      <td>English</td>\n",
              "      <td>RT @Trap_Jesus: Never seen a nigga get laughed at when he got his test back and it was an A on that bitch.</td>\n",
              "      <td>True</td>\n",
              "      <td>RT @Trap_Jesus: Never seen a **** get laughed at when he got his test back and it was an A on that ****.</td>\n",
              "      <td>1</td>\n",
              "      <td>True</td>\n",
              "    </tr>\n",
              "    <tr>\n",
              "      <th>54</th>\n",
              "      <td>292</td>\n",
              "      <td>&amp;#8220;@Thatindianbruh: Food &amp;gt; Pussy \\n\\nbut pussy = Food \\n\\nso food &amp;#8805; pussy.&amp;#8221; http://t.co/ZJ3zyduxkO</td>\n",
              "      <td>1</td>\n",
              "      <td>English</td>\n",
              "      <td>&amp;#8220;@Thatindianbruh: Food &amp;gt; Pussy \\n\\nbut pussy = Food \\n\\nso food &amp;#8805; pussy.&amp;#8221; http://t.co/ZJ3zyduxkO</td>\n",
              "      <td>True</td>\n",
              "      <td>&amp;#8220;@Thatindianbruh: Food &amp;gt; **** \\n\\nbut **** = Food \\n\\nso food &amp;#8805; ****.&amp;#8221; http://t.co/ZJ3zyduxkO</td>\n",
              "      <td>1</td>\n",
              "      <td>True</td>\n",
              "    </tr>\n",
              "    <tr>\n",
              "      <th>57</th>\n",
              "      <td>18783</td>\n",
              "      <td>#arkansas   gorilla simulator: you need to do to adapt to the environment. the need to tear the city. materi</td>\n",
              "      <td>0</td>\n",
              "      <td>English</td>\n",
              "      <td>#arkansas   gorilla simulator: you need to do to adapt to the environment. the need to tear the city. materi</td>\n",
              "      <td>False</td>\n",
              "      <td>#arkansas   gorilla simulator: you need to do to adapt to the environment. the need to tear the city. materi</td>\n",
              "      <td>0</td>\n",
              "      <td>True</td>\n",
              "    </tr>\n",
              "  </tbody>\n",
              "</table>\n",
              "</div>\n",
              "    <div class=\"colab-df-buttons\">\n",
              "\n",
              "  <div class=\"colab-df-container\">\n",
              "    <button class=\"colab-df-convert\" onclick=\"convertToInteractive('df-3496b17f-a67b-4279-ae2a-93eaf1ebcc04')\"\n",
              "            title=\"Convert this dataframe to an interactive table.\"\n",
              "            style=\"display:none;\">\n",
              "\n",
              "  <svg xmlns=\"http://www.w3.org/2000/svg\" height=\"24px\" viewBox=\"0 -960 960 960\">\n",
              "    <path d=\"M120-120v-720h720v720H120Zm60-500h600v-160H180v160Zm220 220h160v-160H400v160Zm0 220h160v-160H400v160ZM180-400h160v-160H180v160Zm440 0h160v-160H620v160ZM180-180h160v-160H180v160Zm440 0h160v-160H620v160Z\"/>\n",
              "  </svg>\n",
              "    </button>\n",
              "\n",
              "  <style>\n",
              "    .colab-df-container {\n",
              "      display:flex;\n",
              "      gap: 12px;\n",
              "    }\n",
              "\n",
              "    .colab-df-convert {\n",
              "      background-color: #E8F0FE;\n",
              "      border: none;\n",
              "      border-radius: 50%;\n",
              "      cursor: pointer;\n",
              "      display: none;\n",
              "      fill: #1967D2;\n",
              "      height: 32px;\n",
              "      padding: 0 0 0 0;\n",
              "      width: 32px;\n",
              "    }\n",
              "\n",
              "    .colab-df-convert:hover {\n",
              "      background-color: #E2EBFA;\n",
              "      box-shadow: 0px 1px 2px rgba(60, 64, 67, 0.3), 0px 1px 3px 1px rgba(60, 64, 67, 0.15);\n",
              "      fill: #174EA6;\n",
              "    }\n",
              "\n",
              "    .colab-df-buttons div {\n",
              "      margin-bottom: 4px;\n",
              "    }\n",
              "\n",
              "    [theme=dark] .colab-df-convert {\n",
              "      background-color: #3B4455;\n",
              "      fill: #D2E3FC;\n",
              "    }\n",
              "\n",
              "    [theme=dark] .colab-df-convert:hover {\n",
              "      background-color: #434B5C;\n",
              "      box-shadow: 0px 1px 3px 1px rgba(0, 0, 0, 0.15);\n",
              "      filter: drop-shadow(0px 1px 2px rgba(0, 0, 0, 0.3));\n",
              "      fill: #FFFFFF;\n",
              "    }\n",
              "  </style>\n",
              "\n",
              "    <script>\n",
              "      const buttonEl =\n",
              "        document.querySelector('#df-3496b17f-a67b-4279-ae2a-93eaf1ebcc04 button.colab-df-convert');\n",
              "      buttonEl.style.display =\n",
              "        google.colab.kernel.accessAllowed ? 'block' : 'none';\n",
              "\n",
              "      async function convertToInteractive(key) {\n",
              "        const element = document.querySelector('#df-3496b17f-a67b-4279-ae2a-93eaf1ebcc04');\n",
              "        const dataTable =\n",
              "          await google.colab.kernel.invokeFunction('convertToInteractive',\n",
              "                                                    [key], {});\n",
              "        if (!dataTable) return;\n",
              "\n",
              "        const docLinkHtml = 'Like what you see? Visit the ' +\n",
              "          '<a target=\"_blank\" href=https://colab.research.google.com/notebooks/data_table.ipynb>data table notebook</a>'\n",
              "          + ' to learn more about interactive tables.';\n",
              "        element.innerHTML = '';\n",
              "        dataTable['output_type'] = 'display_data';\n",
              "        await google.colab.output.renderOutput(dataTable, element);\n",
              "        const docLink = document.createElement('div');\n",
              "        docLink.innerHTML = docLinkHtml;\n",
              "        element.appendChild(docLink);\n",
              "      }\n",
              "    </script>\n",
              "  </div>\n",
              "\n",
              "\n",
              "<div id=\"df-95eb24ad-28e5-4edb-9e08-06247929a8a8\">\n",
              "  <button class=\"colab-df-quickchart\" onclick=\"quickchart('df-95eb24ad-28e5-4edb-9e08-06247929a8a8')\"\n",
              "            title=\"Suggest charts\"\n",
              "            style=\"display:none;\">\n",
              "\n",
              "<svg xmlns=\"http://www.w3.org/2000/svg\" height=\"24px\"viewBox=\"0 0 24 24\"\n",
              "     width=\"24px\">\n",
              "    <g>\n",
              "        <path d=\"M19 3H5c-1.1 0-2 .9-2 2v14c0 1.1.9 2 2 2h14c1.1 0 2-.9 2-2V5c0-1.1-.9-2-2-2zM9 17H7v-7h2v7zm4 0h-2V7h2v10zm4 0h-2v-4h2v4z\"/>\n",
              "    </g>\n",
              "</svg>\n",
              "  </button>\n",
              "\n",
              "<style>\n",
              "  .colab-df-quickchart {\n",
              "      --bg-color: #E8F0FE;\n",
              "      --fill-color: #1967D2;\n",
              "      --hover-bg-color: #E2EBFA;\n",
              "      --hover-fill-color: #174EA6;\n",
              "      --disabled-fill-color: #AAA;\n",
              "      --disabled-bg-color: #DDD;\n",
              "  }\n",
              "\n",
              "  [theme=dark] .colab-df-quickchart {\n",
              "      --bg-color: #3B4455;\n",
              "      --fill-color: #D2E3FC;\n",
              "      --hover-bg-color: #434B5C;\n",
              "      --hover-fill-color: #FFFFFF;\n",
              "      --disabled-bg-color: #3B4455;\n",
              "      --disabled-fill-color: #666;\n",
              "  }\n",
              "\n",
              "  .colab-df-quickchart {\n",
              "    background-color: var(--bg-color);\n",
              "    border: none;\n",
              "    border-radius: 50%;\n",
              "    cursor: pointer;\n",
              "    display: none;\n",
              "    fill: var(--fill-color);\n",
              "    height: 32px;\n",
              "    padding: 0;\n",
              "    width: 32px;\n",
              "  }\n",
              "\n",
              "  .colab-df-quickchart:hover {\n",
              "    background-color: var(--hover-bg-color);\n",
              "    box-shadow: 0 1px 2px rgba(60, 64, 67, 0.3), 0 1px 3px 1px rgba(60, 64, 67, 0.15);\n",
              "    fill: var(--button-hover-fill-color);\n",
              "  }\n",
              "\n",
              "  .colab-df-quickchart-complete:disabled,\n",
              "  .colab-df-quickchart-complete:disabled:hover {\n",
              "    background-color: var(--disabled-bg-color);\n",
              "    fill: var(--disabled-fill-color);\n",
              "    box-shadow: none;\n",
              "  }\n",
              "\n",
              "  .colab-df-spinner {\n",
              "    border: 2px solid var(--fill-color);\n",
              "    border-color: transparent;\n",
              "    border-bottom-color: var(--fill-color);\n",
              "    animation:\n",
              "      spin 1s steps(1) infinite;\n",
              "  }\n",
              "\n",
              "  @keyframes spin {\n",
              "    0% {\n",
              "      border-color: transparent;\n",
              "      border-bottom-color: var(--fill-color);\n",
              "      border-left-color: var(--fill-color);\n",
              "    }\n",
              "    20% {\n",
              "      border-color: transparent;\n",
              "      border-left-color: var(--fill-color);\n",
              "      border-top-color: var(--fill-color);\n",
              "    }\n",
              "    30% {\n",
              "      border-color: transparent;\n",
              "      border-left-color: var(--fill-color);\n",
              "      border-top-color: var(--fill-color);\n",
              "      border-right-color: var(--fill-color);\n",
              "    }\n",
              "    40% {\n",
              "      border-color: transparent;\n",
              "      border-right-color: var(--fill-color);\n",
              "      border-top-color: var(--fill-color);\n",
              "    }\n",
              "    60% {\n",
              "      border-color: transparent;\n",
              "      border-right-color: var(--fill-color);\n",
              "    }\n",
              "    80% {\n",
              "      border-color: transparent;\n",
              "      border-right-color: var(--fill-color);\n",
              "      border-bottom-color: var(--fill-color);\n",
              "    }\n",
              "    90% {\n",
              "      border-color: transparent;\n",
              "      border-bottom-color: var(--fill-color);\n",
              "    }\n",
              "  }\n",
              "</style>\n",
              "\n",
              "  <script>\n",
              "    async function quickchart(key) {\n",
              "      const quickchartButtonEl =\n",
              "        document.querySelector('#' + key + ' button');\n",
              "      quickchartButtonEl.disabled = true;  // To prevent multiple clicks.\n",
              "      quickchartButtonEl.classList.add('colab-df-spinner');\n",
              "      try {\n",
              "        const charts = await google.colab.kernel.invokeFunction(\n",
              "            'suggestCharts', [key], {});\n",
              "      } catch (error) {\n",
              "        console.error('Error during call to suggestCharts:', error);\n",
              "      }\n",
              "      quickchartButtonEl.classList.remove('colab-df-spinner');\n",
              "      quickchartButtonEl.classList.add('colab-df-quickchart-complete');\n",
              "    }\n",
              "    (() => {\n",
              "      let quickchartButtonEl =\n",
              "        document.querySelector('#df-95eb24ad-28e5-4edb-9e08-06247929a8a8 button');\n",
              "      quickchartButtonEl.style.display =\n",
              "        google.colab.kernel.accessAllowed ? 'block' : 'none';\n",
              "    })();\n",
              "  </script>\n",
              "</div>\n",
              "\n",
              "  <div id=\"id_17748a3c-e48d-4ccf-8b86-ab42841d21d3\">\n",
              "    <style>\n",
              "      .colab-df-generate {\n",
              "        background-color: #E8F0FE;\n",
              "        border: none;\n",
              "        border-radius: 50%;\n",
              "        cursor: pointer;\n",
              "        display: none;\n",
              "        fill: #1967D2;\n",
              "        height: 32px;\n",
              "        padding: 0 0 0 0;\n",
              "        width: 32px;\n",
              "      }\n",
              "\n",
              "      .colab-df-generate:hover {\n",
              "        background-color: #E2EBFA;\n",
              "        box-shadow: 0px 1px 2px rgba(60, 64, 67, 0.3), 0px 1px 3px 1px rgba(60, 64, 67, 0.15);\n",
              "        fill: #174EA6;\n",
              "      }\n",
              "\n",
              "      [theme=dark] .colab-df-generate {\n",
              "        background-color: #3B4455;\n",
              "        fill: #D2E3FC;\n",
              "      }\n",
              "\n",
              "      [theme=dark] .colab-df-generate:hover {\n",
              "        background-color: #434B5C;\n",
              "        box-shadow: 0px 1px 3px 1px rgba(0, 0, 0, 0.15);\n",
              "        filter: drop-shadow(0px 1px 2px rgba(0, 0, 0, 0.3));\n",
              "        fill: #FFFFFF;\n",
              "      }\n",
              "    </style>\n",
              "    <button class=\"colab-df-generate\" onclick=\"generateWithVariable('filt_fdf')\"\n",
              "            title=\"Generate code using this dataframe.\"\n",
              "            style=\"display:none;\">\n",
              "\n",
              "  <svg xmlns=\"http://www.w3.org/2000/svg\" height=\"24px\"viewBox=\"0 0 24 24\"\n",
              "       width=\"24px\">\n",
              "    <path d=\"M7,19H8.4L18.45,9,17,7.55,7,17.6ZM5,21V16.75L18.45,3.32a2,2,0,0,1,2.83,0l1.4,1.43a1.91,1.91,0,0,1,.58,1.4,1.91,1.91,0,0,1-.58,1.4L9.25,21ZM18.45,9,17,7.55Zm-12,3A5.31,5.31,0,0,0,4.9,8.1,5.31,5.31,0,0,0,1,6.5,5.31,5.31,0,0,0,4.9,4.9,5.31,5.31,0,0,0,6.5,1,5.31,5.31,0,0,0,8.1,4.9,5.31,5.31,0,0,0,12,6.5,5.46,5.46,0,0,0,6.5,12Z\"/>\n",
              "  </svg>\n",
              "    </button>\n",
              "    <script>\n",
              "      (() => {\n",
              "      const buttonEl =\n",
              "        document.querySelector('#id_17748a3c-e48d-4ccf-8b86-ab42841d21d3 button.colab-df-generate');\n",
              "      buttonEl.style.display =\n",
              "        google.colab.kernel.accessAllowed ? 'block' : 'none';\n",
              "\n",
              "      buttonEl.onclick = () => {\n",
              "        google.colab.notebook.generateWithVariable('filt_fdf');\n",
              "      }\n",
              "      })();\n",
              "    </script>\n",
              "  </div>\n",
              "\n",
              "    </div>\n",
              "  </div>\n"
            ],
            "application/vnd.google.colaboratory.intrinsic+json": {
              "type": "dataframe",
              "variable_name": "filt_fdf",
              "summary": "{\n  \"name\": \"filt_fdf\",\n  \"rows\": 8,\n  \"fields\": [\n    {\n      \"column\": \"Unnamed: 0\",\n      \"properties\": {\n        \"dtype\": \"number\",\n        \"std\": 23223,\n        \"min\": 292,\n        \"max\": 64362,\n        \"num_unique_values\": 8,\n        \"samples\": [\n          39158,\n          62298,\n          23680\n        ],\n        \"semantic_type\": \"\",\n        \"description\": \"\"\n      }\n    },\n    {\n      \"column\": \"text\",\n      \"properties\": {\n        \"dtype\": \"string\",\n        \"num_unique_values\": 8,\n        \"samples\": [\n          \"downtime lunchtime @user #unique   #inclusive \",\n          \"RT @Trap_Jesus: Never seen a nigga get laughed at when he got his test back and it was an A on that bitch.\",\n          \"\\u00f0\\u009f\\u0098\\u0094\\u00f0\\u009f\\u0098\\u0094 thas it right there   \"\n        ],\n        \"semantic_type\": \"\",\n        \"description\": \"\"\n      }\n    },\n    {\n      \"column\": \"label\",\n      \"properties\": {\n        \"dtype\": \"number\",\n        \"std\": 0,\n        \"min\": 0,\n        \"max\": 1,\n        \"num_unique_values\": 2,\n        \"samples\": [\n          1,\n          0\n        ],\n        \"semantic_type\": \"\",\n        \"description\": \"\"\n      }\n    },\n    {\n      \"column\": \"language\",\n      \"properties\": {\n        \"dtype\": \"category\",\n        \"num_unique_values\": 1,\n        \"samples\": [\n          \"English\"\n        ],\n        \"semantic_type\": \"\",\n        \"description\": \"\"\n      }\n    },\n    {\n      \"column\": \"cleantext\",\n      \"properties\": {\n        \"dtype\": \"string\",\n        \"num_unique_values\": 8,\n        \"samples\": [\n          \"downtime lunchtime @user #unique   #inclusive \"\n        ],\n        \"semantic_type\": \"\",\n        \"description\": \"\"\n      }\n    },\n    {\n      \"column\": \"profanity_result\",\n      \"properties\": {\n        \"dtype\": \"boolean\",\n        \"num_unique_values\": 2,\n        \"samples\": [\n          true\n        ],\n        \"semantic_type\": \"\",\n        \"description\": \"\"\n      }\n    },\n    {\n      \"column\": \"censored_text\",\n      \"properties\": {\n        \"dtype\": \"string\",\n        \"num_unique_values\": 8,\n        \"samples\": [\n          \"downtime lunchtime @user #unique   #inclusive \"\n        ],\n        \"semantic_type\": \"\",\n        \"description\": \"\"\n      }\n    },\n    {\n      \"column\": \"has_profanity\",\n      \"properties\": {\n        \"dtype\": \"number\",\n        \"std\": 0,\n        \"min\": 0,\n        \"max\": 1,\n        \"num_unique_values\": 2,\n        \"samples\": [\n          1\n        ],\n        \"semantic_type\": \"\",\n        \"description\": \"\"\n      }\n    },\n    {\n      \"column\": \"match\",\n      \"properties\": {\n        \"dtype\": \"boolean\",\n        \"num_unique_values\": 1,\n        \"samples\": [\n          true\n        ],\n        \"semantic_type\": \"\",\n        \"description\": \"\"\n      }\n    }\n  ]\n}"
            }
          },
          "metadata": {},
          "execution_count": 9
        }
      ]
    },
    {
      "cell_type": "code",
      "source": [
        "fdfone_result = benchmark_profanity(df=fdfone, contextstrcol='cleantext',gtlabel='label', censor=True,exportfilepath='/content/benchmarkresults/sowmyaprf15_enprofanity_results.csv')\n"
      ],
      "metadata": {
        "colab": {
          "base_uri": "https://localhost:8080/"
        },
        "id": "8BZeBgNYSoWO",
        "outputId": "d75813a1-b4ba-47c6-8347-d7a91c4f3889"
      },
      "execution_count": 10,
      "outputs": [
        {
          "output_type": "stream",
          "name": "stderr",
          "text": [
            "INFO:root:Latency duration in mins : 12.279339433333332\n"
          ]
        }
      ]
    },
    {
      "cell_type": "code",
      "source": [
        "fp_df = get_fp_or_fn(df=fdfone_result,gtlabelcol='label',predcol='has_profanity')"
      ],
      "metadata": {
        "colab": {
          "base_uri": "https://localhost:8080/"
        },
        "id": "zJkVXAMkorJ3",
        "outputId": "08a9ebae-6e8a-48cc-acb4-acc76563cba8"
      },
      "execution_count": 12,
      "outputs": [
        {
          "output_type": "stream",
          "name": "stdout",
          "text": [
            "observed shape of false positive(309, 9)\n"
          ]
        }
      ]
    },
    {
      "cell_type": "code",
      "source": [
        "fp_df.head(10)"
      ],
      "metadata": {
        "colab": {
          "base_uri": "https://localhost:8080/",
          "height": 1000
        },
        "id": "2evvl43Nrqnc",
        "outputId": "b8681699-19b3-493f-87d5-81e2fedcbf3e"
      },
      "execution_count": 13,
      "outputs": [
        {
          "output_type": "execute_result",
          "data": {
            "text/plain": [
              "      Unnamed: 0                                                                                                                                       text  label language  \\\n",
              "233        60553                                                                                              This bitch @Lvl_7_Eevee buys sparkling water.      0  English   \n",
              "500        69984                                 @user when is his crap going to stop?#orlando @user needs to do something along with the american people.       0  English   \n",
              "844        29081       @user there are people that \"don't like me\" and dedicating their lives to getting my attention to make me see the shady shit theyâ¦      0  English   \n",
              "1226       59934               lmao @ guys liking random girls pictures like they're gonna pay attention to you... they posting photos for the attention.        0  English   \n",
              "1272       61735          @user @user well if hillary had her way would be bernie sanders burning in hell for murdered sandy hook kids. nevermind nra/gop        0  English   \n",
              "1339       11515  niggas know they took us from our homeland and denounced our ways as savagery..n we still some jesus praising,  name brand dependent ppl       0  English   \n",
              "1481       53310                               ursexiestmorena - na: #shy #porn #naughty #nude   #young #kinky #sexy #xxx #nasty #slut #wet #snapshot #...       0  English   \n",
              "1732       52238                              @user wtf happened to manservant @user @user broke him like a rented mule. now he follows drumpf around liâ¦      0  English   \n",
              "1733       23529                            @ryancommakerry @dianaaaxo @JennaAmendolare guys number 42 on the Yankees looks like uncle Stevie LMAO IM DYING      0  English   \n",
              "1865        2556                                             @user but you feel obligated to fuck it up because you can't have what you want?    #illpray4u      0  English   \n",
              "\n",
              "                                                                                                                                      cleantext  profanity_result  \\\n",
              "233                                                                                               This bitch @Lvl_7_Eevee buys sparkling water.              True   \n",
              "500                                  @user when is his crap going to stop?#orlando @user needs to do something along with the american people.               True   \n",
              "844           @user there are people that \"don't like me\" and dedicating their lives to getting my attention to make me see the shady shit they              True   \n",
              "1226               lmao @ guys liking random girls pictures like they're gonna pay attention to you... they posting photos for the attention.                True   \n",
              "1272          @user @user well if hillary had her way would be bernie sanders burning in hell for murdered sandy hook kids. nevermind nra/gop                True   \n",
              "1339  niggas know they took us from our homeland and denounced our ways as savagery..n we still some jesus praising,  name brand dependent ppl               True   \n",
              "1481                               ursexiestmorena - na: #shy #porn #naughty #nude   #young #kinky #sexy #xxx #nasty #slut #wet #snapshot #...               True   \n",
              "1732                                 @user wtf happened to manservant @user @user broke him like a rented mule. now he follows drumpf around li              True   \n",
              "1733                            @ryancommakerry @dianaaaxo @JennaAmendolare guys number 42 on the Yankees looks like uncle Stevie LMAO IM DYING              True   \n",
              "1865                                             @user but you feel obligated to fuck it up because you can't have what you want?    #illpray4u              True   \n",
              "\n",
              "                                                                                                                                censored_text  has_profanity  match  \n",
              "233                                                                                              This **** @Lvl_7_Eevee buys sparkling water.              1  False  \n",
              "500                                @user when is his **** going to stop?#orlando @user needs to do something along with the american people.               1  False  \n",
              "844         @user there are people that \"don't like me\" and dedicating their lives to getting my attention to make me see the shady **** they              1  False  \n",
              "1226             **** @ guys liking random girls pictures like they're gonna pay attention to you... they posting photos for the attention.                1  False  \n",
              "1272        @user @user well if hillary had her way would be bernie sanders burning in **** for murdered sandy hook kids. nevermind nra/gop                1  False  \n",
              "1339  **** know they took us from our homeland and denounced our ways as savagery..n we still some jesus praising,  name brand dependent ppl               1  False  \n",
              "1481                             ursexiestmorena - na: #shy #**** #naughty #****   #young #**** #sexy #**** #nasty #**** #wet #snapshot #...               1  False  \n",
              "1732                              @user **** happened to manservant @user @user broke him like a rented mule. now he follows drumpf around li              1  False  \n",
              "1733                          @ryancommakerry @dianaaaxo @JennaAmendolare guys number 42 on the Yankees looks like uncle Stevie **** IM DYING              1  False  \n",
              "1865                                           @user but you feel obligated to **** it up because you can't have what you want?    #illpray4u              1  False  "
            ],
            "text/html": [
              "\n",
              "  <div id=\"df-9a2a8e19-1ccd-4894-a18a-9cacbedc424e\" class=\"colab-df-container\">\n",
              "    <div>\n",
              "<style scoped>\n",
              "    .dataframe tbody tr th:only-of-type {\n",
              "        vertical-align: middle;\n",
              "    }\n",
              "\n",
              "    .dataframe tbody tr th {\n",
              "        vertical-align: top;\n",
              "    }\n",
              "\n",
              "    .dataframe thead th {\n",
              "        text-align: right;\n",
              "    }\n",
              "</style>\n",
              "<table border=\"1\" class=\"dataframe\">\n",
              "  <thead>\n",
              "    <tr style=\"text-align: right;\">\n",
              "      <th></th>\n",
              "      <th>Unnamed: 0</th>\n",
              "      <th>text</th>\n",
              "      <th>label</th>\n",
              "      <th>language</th>\n",
              "      <th>cleantext</th>\n",
              "      <th>profanity_result</th>\n",
              "      <th>censored_text</th>\n",
              "      <th>has_profanity</th>\n",
              "      <th>match</th>\n",
              "    </tr>\n",
              "  </thead>\n",
              "  <tbody>\n",
              "    <tr>\n",
              "      <th>233</th>\n",
              "      <td>60553</td>\n",
              "      <td>This bitch @Lvl_7_Eevee buys sparkling water.</td>\n",
              "      <td>0</td>\n",
              "      <td>English</td>\n",
              "      <td>This bitch @Lvl_7_Eevee buys sparkling water.</td>\n",
              "      <td>True</td>\n",
              "      <td>This **** @Lvl_7_Eevee buys sparkling water.</td>\n",
              "      <td>1</td>\n",
              "      <td>False</td>\n",
              "    </tr>\n",
              "    <tr>\n",
              "      <th>500</th>\n",
              "      <td>69984</td>\n",
              "      <td>@user when is his crap going to stop?#orlando @user needs to do something along with the american people.</td>\n",
              "      <td>0</td>\n",
              "      <td>English</td>\n",
              "      <td>@user when is his crap going to stop?#orlando @user needs to do something along with the american people.</td>\n",
              "      <td>True</td>\n",
              "      <td>@user when is his **** going to stop?#orlando @user needs to do something along with the american people.</td>\n",
              "      <td>1</td>\n",
              "      <td>False</td>\n",
              "    </tr>\n",
              "    <tr>\n",
              "      <th>844</th>\n",
              "      <td>29081</td>\n",
              "      <td>@user there are people that \"don't like me\" and dedicating their lives to getting my attention to make me see the shady shit theyâ¦</td>\n",
              "      <td>0</td>\n",
              "      <td>English</td>\n",
              "      <td>@user there are people that \"don't like me\" and dedicating their lives to getting my attention to make me see the shady shit they</td>\n",
              "      <td>True</td>\n",
              "      <td>@user there are people that \"don't like me\" and dedicating their lives to getting my attention to make me see the shady **** they</td>\n",
              "      <td>1</td>\n",
              "      <td>False</td>\n",
              "    </tr>\n",
              "    <tr>\n",
              "      <th>1226</th>\n",
              "      <td>59934</td>\n",
              "      <td>lmao @ guys liking random girls pictures like they're gonna pay attention to you... they posting photos for the attention.</td>\n",
              "      <td>0</td>\n",
              "      <td>English</td>\n",
              "      <td>lmao @ guys liking random girls pictures like they're gonna pay attention to you... they posting photos for the attention.</td>\n",
              "      <td>True</td>\n",
              "      <td>**** @ guys liking random girls pictures like they're gonna pay attention to you... they posting photos for the attention.</td>\n",
              "      <td>1</td>\n",
              "      <td>False</td>\n",
              "    </tr>\n",
              "    <tr>\n",
              "      <th>1272</th>\n",
              "      <td>61735</td>\n",
              "      <td>@user @user well if hillary had her way would be bernie sanders burning in hell for murdered sandy hook kids. nevermind nra/gop</td>\n",
              "      <td>0</td>\n",
              "      <td>English</td>\n",
              "      <td>@user @user well if hillary had her way would be bernie sanders burning in hell for murdered sandy hook kids. nevermind nra/gop</td>\n",
              "      <td>True</td>\n",
              "      <td>@user @user well if hillary had her way would be bernie sanders burning in **** for murdered sandy hook kids. nevermind nra/gop</td>\n",
              "      <td>1</td>\n",
              "      <td>False</td>\n",
              "    </tr>\n",
              "    <tr>\n",
              "      <th>1339</th>\n",
              "      <td>11515</td>\n",
              "      <td>niggas know they took us from our homeland and denounced our ways as savagery..n we still some jesus praising,  name brand dependent ppl</td>\n",
              "      <td>0</td>\n",
              "      <td>English</td>\n",
              "      <td>niggas know they took us from our homeland and denounced our ways as savagery..n we still some jesus praising,  name brand dependent ppl</td>\n",
              "      <td>True</td>\n",
              "      <td>**** know they took us from our homeland and denounced our ways as savagery..n we still some jesus praising,  name brand dependent ppl</td>\n",
              "      <td>1</td>\n",
              "      <td>False</td>\n",
              "    </tr>\n",
              "    <tr>\n",
              "      <th>1481</th>\n",
              "      <td>53310</td>\n",
              "      <td>ursexiestmorena - na: #shy #porn #naughty #nude   #young #kinky #sexy #xxx #nasty #slut #wet #snapshot #...</td>\n",
              "      <td>0</td>\n",
              "      <td>English</td>\n",
              "      <td>ursexiestmorena - na: #shy #porn #naughty #nude   #young #kinky #sexy #xxx #nasty #slut #wet #snapshot #...</td>\n",
              "      <td>True</td>\n",
              "      <td>ursexiestmorena - na: #shy #**** #naughty #****   #young #**** #sexy #**** #nasty #**** #wet #snapshot #...</td>\n",
              "      <td>1</td>\n",
              "      <td>False</td>\n",
              "    </tr>\n",
              "    <tr>\n",
              "      <th>1732</th>\n",
              "      <td>52238</td>\n",
              "      <td>@user wtf happened to manservant @user @user broke him like a rented mule. now he follows drumpf around liâ¦</td>\n",
              "      <td>0</td>\n",
              "      <td>English</td>\n",
              "      <td>@user wtf happened to manservant @user @user broke him like a rented mule. now he follows drumpf around li</td>\n",
              "      <td>True</td>\n",
              "      <td>@user **** happened to manservant @user @user broke him like a rented mule. now he follows drumpf around li</td>\n",
              "      <td>1</td>\n",
              "      <td>False</td>\n",
              "    </tr>\n",
              "    <tr>\n",
              "      <th>1733</th>\n",
              "      <td>23529</td>\n",
              "      <td>@ryancommakerry @dianaaaxo @JennaAmendolare guys number 42 on the Yankees looks like uncle Stevie LMAO IM DYING</td>\n",
              "      <td>0</td>\n",
              "      <td>English</td>\n",
              "      <td>@ryancommakerry @dianaaaxo @JennaAmendolare guys number 42 on the Yankees looks like uncle Stevie LMAO IM DYING</td>\n",
              "      <td>True</td>\n",
              "      <td>@ryancommakerry @dianaaaxo @JennaAmendolare guys number 42 on the Yankees looks like uncle Stevie **** IM DYING</td>\n",
              "      <td>1</td>\n",
              "      <td>False</td>\n",
              "    </tr>\n",
              "    <tr>\n",
              "      <th>1865</th>\n",
              "      <td>2556</td>\n",
              "      <td>@user but you feel obligated to fuck it up because you can't have what you want?    #illpray4u</td>\n",
              "      <td>0</td>\n",
              "      <td>English</td>\n",
              "      <td>@user but you feel obligated to fuck it up because you can't have what you want?    #illpray4u</td>\n",
              "      <td>True</td>\n",
              "      <td>@user but you feel obligated to **** it up because you can't have what you want?    #illpray4u</td>\n",
              "      <td>1</td>\n",
              "      <td>False</td>\n",
              "    </tr>\n",
              "  </tbody>\n",
              "</table>\n",
              "</div>\n",
              "    <div class=\"colab-df-buttons\">\n",
              "\n",
              "  <div class=\"colab-df-container\">\n",
              "    <button class=\"colab-df-convert\" onclick=\"convertToInteractive('df-9a2a8e19-1ccd-4894-a18a-9cacbedc424e')\"\n",
              "            title=\"Convert this dataframe to an interactive table.\"\n",
              "            style=\"display:none;\">\n",
              "\n",
              "  <svg xmlns=\"http://www.w3.org/2000/svg\" height=\"24px\" viewBox=\"0 -960 960 960\">\n",
              "    <path d=\"M120-120v-720h720v720H120Zm60-500h600v-160H180v160Zm220 220h160v-160H400v160Zm0 220h160v-160H400v160ZM180-400h160v-160H180v160Zm440 0h160v-160H620v160ZM180-180h160v-160H180v160Zm440 0h160v-160H620v160Z\"/>\n",
              "  </svg>\n",
              "    </button>\n",
              "\n",
              "  <style>\n",
              "    .colab-df-container {\n",
              "      display:flex;\n",
              "      gap: 12px;\n",
              "    }\n",
              "\n",
              "    .colab-df-convert {\n",
              "      background-color: #E8F0FE;\n",
              "      border: none;\n",
              "      border-radius: 50%;\n",
              "      cursor: pointer;\n",
              "      display: none;\n",
              "      fill: #1967D2;\n",
              "      height: 32px;\n",
              "      padding: 0 0 0 0;\n",
              "      width: 32px;\n",
              "    }\n",
              "\n",
              "    .colab-df-convert:hover {\n",
              "      background-color: #E2EBFA;\n",
              "      box-shadow: 0px 1px 2px rgba(60, 64, 67, 0.3), 0px 1px 3px 1px rgba(60, 64, 67, 0.15);\n",
              "      fill: #174EA6;\n",
              "    }\n",
              "\n",
              "    .colab-df-buttons div {\n",
              "      margin-bottom: 4px;\n",
              "    }\n",
              "\n",
              "    [theme=dark] .colab-df-convert {\n",
              "      background-color: #3B4455;\n",
              "      fill: #D2E3FC;\n",
              "    }\n",
              "\n",
              "    [theme=dark] .colab-df-convert:hover {\n",
              "      background-color: #434B5C;\n",
              "      box-shadow: 0px 1px 3px 1px rgba(0, 0, 0, 0.15);\n",
              "      filter: drop-shadow(0px 1px 2px rgba(0, 0, 0, 0.3));\n",
              "      fill: #FFFFFF;\n",
              "    }\n",
              "  </style>\n",
              "\n",
              "    <script>\n",
              "      const buttonEl =\n",
              "        document.querySelector('#df-9a2a8e19-1ccd-4894-a18a-9cacbedc424e button.colab-df-convert');\n",
              "      buttonEl.style.display =\n",
              "        google.colab.kernel.accessAllowed ? 'block' : 'none';\n",
              "\n",
              "      async function convertToInteractive(key) {\n",
              "        const element = document.querySelector('#df-9a2a8e19-1ccd-4894-a18a-9cacbedc424e');\n",
              "        const dataTable =\n",
              "          await google.colab.kernel.invokeFunction('convertToInteractive',\n",
              "                                                    [key], {});\n",
              "        if (!dataTable) return;\n",
              "\n",
              "        const docLinkHtml = 'Like what you see? Visit the ' +\n",
              "          '<a target=\"_blank\" href=https://colab.research.google.com/notebooks/data_table.ipynb>data table notebook</a>'\n",
              "          + ' to learn more about interactive tables.';\n",
              "        element.innerHTML = '';\n",
              "        dataTable['output_type'] = 'display_data';\n",
              "        await google.colab.output.renderOutput(dataTable, element);\n",
              "        const docLink = document.createElement('div');\n",
              "        docLink.innerHTML = docLinkHtml;\n",
              "        element.appendChild(docLink);\n",
              "      }\n",
              "    </script>\n",
              "  </div>\n",
              "\n",
              "\n",
              "<div id=\"df-276c1ba7-eab2-4606-8cc6-caf8439ebda0\">\n",
              "  <button class=\"colab-df-quickchart\" onclick=\"quickchart('df-276c1ba7-eab2-4606-8cc6-caf8439ebda0')\"\n",
              "            title=\"Suggest charts\"\n",
              "            style=\"display:none;\">\n",
              "\n",
              "<svg xmlns=\"http://www.w3.org/2000/svg\" height=\"24px\"viewBox=\"0 0 24 24\"\n",
              "     width=\"24px\">\n",
              "    <g>\n",
              "        <path d=\"M19 3H5c-1.1 0-2 .9-2 2v14c0 1.1.9 2 2 2h14c1.1 0 2-.9 2-2V5c0-1.1-.9-2-2-2zM9 17H7v-7h2v7zm4 0h-2V7h2v10zm4 0h-2v-4h2v4z\"/>\n",
              "    </g>\n",
              "</svg>\n",
              "  </button>\n",
              "\n",
              "<style>\n",
              "  .colab-df-quickchart {\n",
              "      --bg-color: #E8F0FE;\n",
              "      --fill-color: #1967D2;\n",
              "      --hover-bg-color: #E2EBFA;\n",
              "      --hover-fill-color: #174EA6;\n",
              "      --disabled-fill-color: #AAA;\n",
              "      --disabled-bg-color: #DDD;\n",
              "  }\n",
              "\n",
              "  [theme=dark] .colab-df-quickchart {\n",
              "      --bg-color: #3B4455;\n",
              "      --fill-color: #D2E3FC;\n",
              "      --hover-bg-color: #434B5C;\n",
              "      --hover-fill-color: #FFFFFF;\n",
              "      --disabled-bg-color: #3B4455;\n",
              "      --disabled-fill-color: #666;\n",
              "  }\n",
              "\n",
              "  .colab-df-quickchart {\n",
              "    background-color: var(--bg-color);\n",
              "    border: none;\n",
              "    border-radius: 50%;\n",
              "    cursor: pointer;\n",
              "    display: none;\n",
              "    fill: var(--fill-color);\n",
              "    height: 32px;\n",
              "    padding: 0;\n",
              "    width: 32px;\n",
              "  }\n",
              "\n",
              "  .colab-df-quickchart:hover {\n",
              "    background-color: var(--hover-bg-color);\n",
              "    box-shadow: 0 1px 2px rgba(60, 64, 67, 0.3), 0 1px 3px 1px rgba(60, 64, 67, 0.15);\n",
              "    fill: var(--button-hover-fill-color);\n",
              "  }\n",
              "\n",
              "  .colab-df-quickchart-complete:disabled,\n",
              "  .colab-df-quickchart-complete:disabled:hover {\n",
              "    background-color: var(--disabled-bg-color);\n",
              "    fill: var(--disabled-fill-color);\n",
              "    box-shadow: none;\n",
              "  }\n",
              "\n",
              "  .colab-df-spinner {\n",
              "    border: 2px solid var(--fill-color);\n",
              "    border-color: transparent;\n",
              "    border-bottom-color: var(--fill-color);\n",
              "    animation:\n",
              "      spin 1s steps(1) infinite;\n",
              "  }\n",
              "\n",
              "  @keyframes spin {\n",
              "    0% {\n",
              "      border-color: transparent;\n",
              "      border-bottom-color: var(--fill-color);\n",
              "      border-left-color: var(--fill-color);\n",
              "    }\n",
              "    20% {\n",
              "      border-color: transparent;\n",
              "      border-left-color: var(--fill-color);\n",
              "      border-top-color: var(--fill-color);\n",
              "    }\n",
              "    30% {\n",
              "      border-color: transparent;\n",
              "      border-left-color: var(--fill-color);\n",
              "      border-top-color: var(--fill-color);\n",
              "      border-right-color: var(--fill-color);\n",
              "    }\n",
              "    40% {\n",
              "      border-color: transparent;\n",
              "      border-right-color: var(--fill-color);\n",
              "      border-top-color: var(--fill-color);\n",
              "    }\n",
              "    60% {\n",
              "      border-color: transparent;\n",
              "      border-right-color: var(--fill-color);\n",
              "    }\n",
              "    80% {\n",
              "      border-color: transparent;\n",
              "      border-right-color: var(--fill-color);\n",
              "      border-bottom-color: var(--fill-color);\n",
              "    }\n",
              "    90% {\n",
              "      border-color: transparent;\n",
              "      border-bottom-color: var(--fill-color);\n",
              "    }\n",
              "  }\n",
              "</style>\n",
              "\n",
              "  <script>\n",
              "    async function quickchart(key) {\n",
              "      const quickchartButtonEl =\n",
              "        document.querySelector('#' + key + ' button');\n",
              "      quickchartButtonEl.disabled = true;  // To prevent multiple clicks.\n",
              "      quickchartButtonEl.classList.add('colab-df-spinner');\n",
              "      try {\n",
              "        const charts = await google.colab.kernel.invokeFunction(\n",
              "            'suggestCharts', [key], {});\n",
              "      } catch (error) {\n",
              "        console.error('Error during call to suggestCharts:', error);\n",
              "      }\n",
              "      quickchartButtonEl.classList.remove('colab-df-spinner');\n",
              "      quickchartButtonEl.classList.add('colab-df-quickchart-complete');\n",
              "    }\n",
              "    (() => {\n",
              "      let quickchartButtonEl =\n",
              "        document.querySelector('#df-276c1ba7-eab2-4606-8cc6-caf8439ebda0 button');\n",
              "      quickchartButtonEl.style.display =\n",
              "        google.colab.kernel.accessAllowed ? 'block' : 'none';\n",
              "    })();\n",
              "  </script>\n",
              "</div>\n",
              "\n",
              "    </div>\n",
              "  </div>\n"
            ],
            "application/vnd.google.colaboratory.intrinsic+json": {
              "type": "dataframe",
              "variable_name": "fp_df",
              "summary": "{\n  \"name\": \"fp_df\",\n  \"rows\": 309,\n  \"fields\": [\n    {\n      \"column\": \"Unnamed: 0\",\n      \"properties\": {\n        \"dtype\": \"number\",\n        \"std\": 20038,\n        \"min\": 204,\n        \"max\": 69984,\n        \"num_unique_values\": 309,\n        \"samples\": [\n          22318,\n          2556,\n          17193\n        ],\n        \"semantic_type\": \"\",\n        \"description\": \"\"\n      }\n    },\n    {\n      \"column\": \"text\",\n      \"properties\": {\n        \"dtype\": \"string\",\n        \"num_unique_values\": 308,\n        \"samples\": [\n          \"a country that desperate to kill their own children.   #prayersforall  \",\n          \"@user but you feel obligated to fuck it up because you can't have what you want?    #illpray4u\",\n          \"a couple bitches went left\\u00f0\\u009f\\u0092\\u0081\\u00f0\\u009f\\u008f\\u00bd i don't need'em\\u00f0\\u009f\\u0092\\u008b\\u00f0\\u009f\\u0092\\u00af   father's day \\u00e2\\u009d\\u00a4\\u00ef\\u00b8\\u008f \"\n        ],\n        \"semantic_type\": \"\",\n        \"description\": \"\"\n      }\n    },\n    {\n      \"column\": \"label\",\n      \"properties\": {\n        \"dtype\": \"number\",\n        \"std\": 0,\n        \"min\": 0,\n        \"max\": 0,\n        \"num_unique_values\": 1,\n        \"samples\": [\n          0\n        ],\n        \"semantic_type\": \"\",\n        \"description\": \"\"\n      }\n    },\n    {\n      \"column\": \"language\",\n      \"properties\": {\n        \"dtype\": \"category\",\n        \"num_unique_values\": 1,\n        \"samples\": [\n          \"English\"\n        ],\n        \"semantic_type\": \"\",\n        \"description\": \"\"\n      }\n    },\n    {\n      \"column\": \"cleantext\",\n      \"properties\": {\n        \"dtype\": \"string\",\n        \"num_unique_values\": 308,\n        \"samples\": [\n          \"a country that desperate to kill their own children.   #prayersforall  \"\n        ],\n        \"semantic_type\": \"\",\n        \"description\": \"\"\n      }\n    },\n    {\n      \"column\": \"profanity_result\",\n      \"properties\": {\n        \"dtype\": \"boolean\",\n        \"num_unique_values\": 1,\n        \"samples\": [\n          true\n        ],\n        \"semantic_type\": \"\",\n        \"description\": \"\"\n      }\n    },\n    {\n      \"column\": \"censored_text\",\n      \"properties\": {\n        \"dtype\": \"string\",\n        \"num_unique_values\": 308,\n        \"samples\": [\n          \"a country that desperate to **** their own children.   #prayersforall  \"\n        ],\n        \"semantic_type\": \"\",\n        \"description\": \"\"\n      }\n    },\n    {\n      \"column\": \"has_profanity\",\n      \"properties\": {\n        \"dtype\": \"number\",\n        \"std\": 0,\n        \"min\": 1,\n        \"max\": 1,\n        \"num_unique_values\": 1,\n        \"samples\": [\n          1\n        ],\n        \"semantic_type\": \"\",\n        \"description\": \"\"\n      }\n    },\n    {\n      \"column\": \"match\",\n      \"properties\": {\n        \"dtype\": \"boolean\",\n        \"num_unique_values\": 1,\n        \"samples\": [\n          false\n        ],\n        \"semantic_type\": \"\",\n        \"description\": \"\"\n      }\n    }\n  ]\n}"
            }
          },
          "metadata": {},
          "execution_count": 13
        }
      ]
    },
    {
      "cell_type": "markdown",
      "source": [
        "# <font color='Orange'>Observations</font>\n",
        "\n",
        "`fp Observations : `\n",
        "\n",
        "*   Observed distributions where the ground truth label wrongly predict the sentences as Not Profane when they are Profane\n",
        "*   Model itself is considering certain words as Profane when they are not\n",
        "\n",
        "`fn Observations: `\n",
        "\n",
        "* wrong labelled as 1 at dataset as the model predicts this as 0 i.e False\n"
      ],
      "metadata": {
        "id": "lURnpZAPoss6"
      }
    },
    {
      "cell_type": "code",
      "source": [
        "def check_profane(input):\n",
        "     return profanity.contains_profanity(input)"
      ],
      "metadata": {
        "id": "cN4z2hTeuA6t"
      },
      "execution_count": 25,
      "outputs": []
    },
    {
      "cell_type": "markdown",
      "source": [
        "### Detects gay as Profane"
      ],
      "metadata": {
        "id": "R74YqDTLsEd0"
      }
    },
    {
      "cell_type": "code",
      "source": [
        "check_profane(\"love this. ð #fathersday #father #baby #cute #cutest #love #gay #geek #babyfever #photo #picture\")"
      ],
      "metadata": {
        "colab": {
          "base_uri": "https://localhost:8080/"
        },
        "id": "7R3XBwapnR0V",
        "outputId": "cfc93f93-0ed4-4dd9-a770-bd6814016951"
      },
      "execution_count": 26,
      "outputs": [
        {
          "output_type": "execute_result",
          "data": {
            "text/plain": [
              "True"
            ]
          },
          "metadata": {},
          "execution_count": 26
        }
      ]
    },
    {
      "cell_type": "code",
      "source": [
        "check_profane(\"love this. ð #fathersday #father #baby #cute #cutest #love  #geek #babyfever #photo #picture\")"
      ],
      "metadata": {
        "colab": {
          "base_uri": "https://localhost:8080/"
        },
        "id": "M2nLb7LUsJ_7",
        "outputId": "b77d104f-f55a-4223-8e6e-80f468ec59bd"
      },
      "execution_count": 27,
      "outputs": [
        {
          "output_type": "execute_result",
          "data": {
            "text/plain": [
              "False"
            ]
          },
          "metadata": {},
          "execution_count": 27
        }
      ]
    },
    {
      "cell_type": "code",
      "source": [
        "check_profane(\"be with who you are xx\")"
      ],
      "metadata": {
        "colab": {
          "base_uri": "https://localhost:8080/"
        },
        "id": "lUtfmaUXs-kf",
        "outputId": "3865a7a8-9034-49ee-bcba-c9474995642d"
      },
      "execution_count": 28,
      "outputs": [
        {
          "output_type": "execute_result",
          "data": {
            "text/plain": [
              "True"
            ]
          },
          "metadata": {},
          "execution_count": 28
        }
      ]
    },
    {
      "cell_type": "markdown",
      "source": [
        "### Detects God as Profane"
      ],
      "metadata": {
        "id": "hLHaqalvtkS5"
      }
    },
    {
      "cell_type": "code",
      "source": [
        "check_profane(\"God\")"
      ],
      "metadata": {
        "colab": {
          "base_uri": "https://localhost:8080/"
        },
        "id": "S15KI0o4tVQd",
        "outputId": "0f560b24-d2c2-4aef-ba9d-d1880c2109b6"
      },
      "execution_count": 29,
      "outputs": [
        {
          "output_type": "execute_result",
          "data": {
            "text/plain": [
              "True"
            ]
          },
          "metadata": {},
          "execution_count": 29
        }
      ]
    },
    {
      "cell_type": "code",
      "source": [
        "check_profane('xxx')"
      ],
      "metadata": {
        "colab": {
          "base_uri": "https://localhost:8080/"
        },
        "id": "46OTmNvPt3mE",
        "outputId": "cdac16a7-be18-4e72-fdea-fbf049c76e11"
      },
      "execution_count": 31,
      "outputs": [
        {
          "output_type": "execute_result",
          "data": {
            "text/plain": [
              "True"
            ]
          },
          "metadata": {},
          "execution_count": 31
        }
      ]
    },
    {
      "cell_type": "code",
      "source": [
        "check_profane('xx')"
      ],
      "metadata": {
        "colab": {
          "base_uri": "https://localhost:8080/"
        },
        "id": "AfdVL4N5ufIS",
        "outputId": "9b029a10-9689-4f36-fa43-c566d0d6775b"
      },
      "execution_count": 32,
      "outputs": [
        {
          "output_type": "execute_result",
          "data": {
            "text/plain": [
              "True"
            ]
          },
          "metadata": {},
          "execution_count": 32
        }
      ]
    },
    {
      "cell_type": "code",
      "source": [
        "check_profane(\"back to school again... :) :* thanks god for another day !! ily :* ^_^ #caloocanhighschool\")"
      ],
      "metadata": {
        "colab": {
          "base_uri": "https://localhost:8080/"
        },
        "id": "vFA8K8r3ukQM",
        "outputId": "de3eba08-37f6-4710-bf52-718ee4cba071"
      },
      "execution_count": 33,
      "outputs": [
        {
          "output_type": "execute_result",
          "data": {
            "text/plain": [
              "True"
            ]
          },
          "metadata": {},
          "execution_count": 33
        }
      ]
    },
    {
      "cell_type": "markdown",
      "source": [
        "Detects omg as Profane"
      ],
      "metadata": {
        "id": "j3OuyNhrva-m"
      }
    },
    {
      "cell_type": "code",
      "source": [
        "check_profane(\"omg\")"
      ],
      "metadata": {
        "colab": {
          "base_uri": "https://localhost:8080/"
        },
        "id": "RKRAp_h8upsF",
        "outputId": "2104b307-62b7-4d8c-f701-6c5301639167"
      },
      "execution_count": 35,
      "outputs": [
        {
          "output_type": "execute_result",
          "data": {
            "text/plain": [
              "True"
            ]
          },
          "metadata": {},
          "execution_count": 35
        }
      ]
    },
    {
      "cell_type": "code",
      "source": [
        "check_profane(\"omg yesssss #zelda #nintendo #wiiu\")"
      ],
      "metadata": {
        "colab": {
          "base_uri": "https://localhost:8080/"
        },
        "id": "XKLYiaDUvhim",
        "outputId": "ff362858-693f-42b5-82a2-e2206aedc84a"
      },
      "execution_count": 36,
      "outputs": [
        {
          "output_type": "execute_result",
          "data": {
            "text/plain": [
              "True"
            ]
          },
          "metadata": {},
          "execution_count": 36
        }
      ]
    },
    {
      "cell_type": "markdown",
      "source": [
        "**Detects retarded as profane**\n",
        "\n"
      ],
      "metadata": {
        "id": "YmCWU9eMwEMy"
      }
    },
    {
      "cell_type": "code",
      "source": [
        "check_profane(\"retarded\")"
      ],
      "metadata": {
        "colab": {
          "base_uri": "https://localhost:8080/"
        },
        "id": "-_7qOg5NwCR_",
        "outputId": "7e4503cd-0bd5-4620-ee56-f9e16e83e854"
      },
      "execution_count": 37,
      "outputs": [
        {
          "output_type": "execute_result",
          "data": {
            "text/plain": [
              "True"
            ]
          },
          "metadata": {},
          "execution_count": 37
        }
      ]
    },
    {
      "cell_type": "code",
      "source": [
        "check_profane(\"I feel utterly retarded. Thanks big brother&#128563;&#128514; @Crawford96M\")"
      ],
      "metadata": {
        "colab": {
          "base_uri": "https://localhost:8080/"
        },
        "id": "nwZrZNxOwNBq",
        "outputId": "010fa748-788f-4831-aba5-0d16e5b067cc"
      },
      "execution_count": 38,
      "outputs": [
        {
          "output_type": "execute_result",
          "data": {
            "text/plain": [
              "True"
            ]
          },
          "metadata": {},
          "execution_count": 38
        }
      ]
    },
    {
      "cell_type": "code",
      "source": [
        "check_profane(\"drunk\")"
      ],
      "metadata": {
        "colab": {
          "base_uri": "https://localhost:8080/"
        },
        "id": "K6GKi4NZx88i",
        "outputId": "fc1fa89e-81f8-4b87-94ac-96baf8fff2d1"
      },
      "execution_count": 44,
      "outputs": [
        {
          "output_type": "execute_result",
          "data": {
            "text/plain": [
              "True"
            ]
          },
          "metadata": {},
          "execution_count": 44
        }
      ]
    },
    {
      "cell_type": "code",
      "source": [
        "check_profane(\"it's sad at how many drunk people there are at #cmafest2016 they are missing a great show and they'll never remember it!\")"
      ],
      "metadata": {
        "colab": {
          "base_uri": "https://localhost:8080/"
        },
        "id": "R9VhK-_5x_JE",
        "outputId": "c60153c5-c290-4f44-f6f8-6532e179555c"
      },
      "execution_count": 45,
      "outputs": [
        {
          "output_type": "execute_result",
          "data": {
            "text/plain": [
              "True"
            ]
          },
          "metadata": {},
          "execution_count": 45
        }
      ]
    },
    {
      "cell_type": "code",
      "source": [
        "check_profane(\"it's sad at how many people there are at #cmafest2016 they are missing a great show and they'll never remember it!\")"
      ],
      "metadata": {
        "colab": {
          "base_uri": "https://localhost:8080/"
        },
        "id": "uCsCMH0IyMUh",
        "outputId": "428de1a4-736e-47f2-81b6-d5a65b16ed1a"
      },
      "execution_count": 46,
      "outputs": [
        {
          "output_type": "execute_result",
          "data": {
            "text/plain": [
              "False"
            ]
          },
          "metadata": {},
          "execution_count": 46
        }
      ]
    },
    {
      "cell_type": "code",
      "source": [
        "check_profane(\"slope\")"
      ],
      "metadata": {
        "colab": {
          "base_uri": "https://localhost:8080/"
        },
        "id": "RsnVamsTz0sz",
        "outputId": "122df20a-768a-45e7-aeec-ec096b12f328"
      },
      "execution_count": 66,
      "outputs": [
        {
          "output_type": "execute_result",
          "data": {
            "text/plain": [
              "True"
            ]
          },
          "metadata": {},
          "execution_count": 66
        }
      ]
    },
    {
      "cell_type": "code",
      "source": [
        "check_profane(\"You're standing on a slippery slope\")"
      ],
      "metadata": {
        "colab": {
          "base_uri": "https://localhost:8080/"
        },
        "id": "6ANJia6hzw_G",
        "outputId": "9b1a5ac9-63ed-4818-8c0d-2e2452d063a7"
      },
      "execution_count": 67,
      "outputs": [
        {
          "output_type": "execute_result",
          "data": {
            "text/plain": [
              "True"
            ]
          },
          "metadata": {},
          "execution_count": 67
        }
      ]
    },
    {
      "cell_type": "code",
      "source": [
        "check_profane(\"pisses\")"
      ],
      "metadata": {
        "colab": {
          "base_uri": "https://localhost:8080/"
        },
        "id": "f2gYprYizM-J",
        "outputId": "fef8eb93-3360-4160-bb59-86df14cd0354"
      },
      "execution_count": 50,
      "outputs": [
        {
          "output_type": "execute_result",
          "data": {
            "text/plain": [
              "True"
            ]
          },
          "metadata": {},
          "execution_count": 50
        }
      ]
    },
    {
      "cell_type": "code",
      "source": [
        "check_profane(\"h a p p y s a t u r d a y #lovingteam #shop #online #shopping #apparel #girls\")"
      ],
      "metadata": {
        "colab": {
          "base_uri": "https://localhost:8080/"
        },
        "id": "0mia0m9V1PJ_",
        "outputId": "c9f8fc03-ea94-483f-8889-7e64a9b4cf79"
      },
      "execution_count": 72,
      "outputs": [
        {
          "output_type": "execute_result",
          "data": {
            "text/plain": [
              "True"
            ]
          },
          "metadata": {},
          "execution_count": 72
        }
      ]
    },
    {
      "cell_type": "code",
      "source": [
        "check_profane(\"h a p p y s a t u r d a y\")"
      ],
      "metadata": {
        "colab": {
          "base_uri": "https://localhost:8080/"
        },
        "id": "YP8ZdW_N1VqP",
        "outputId": "1f0fbd81-1915-4fc8-fdc0-02a6fc6301d6"
      },
      "execution_count": 73,
      "outputs": [
        {
          "output_type": "execute_result",
          "data": {
            "text/plain": [
              "True"
            ]
          },
          "metadata": {},
          "execution_count": 73
        }
      ]
    },
    {
      "cell_type": "code",
      "source": [
        "# Test slope synonyms"
      ],
      "metadata": {
        "id": "KpdnTBw-0GCG"
      },
      "execution_count": null,
      "outputs": []
    },
    {
      "cell_type": "code",
      "source": [
        "check_profane(\"It just pissed me of\")"
      ],
      "metadata": {
        "colab": {
          "base_uri": "https://localhost:8080/"
        },
        "id": "hGrJdDlezQqZ",
        "outputId": "c3852df9-fc60-432b-a9f5-56e27d880370"
      },
      "execution_count": 55,
      "outputs": [
        {
          "output_type": "execute_result",
          "data": {
            "text/plain": [
              "True"
            ]
          },
          "metadata": {},
          "execution_count": 55
        }
      ]
    },
    {
      "cell_type": "code",
      "source": [
        "check_profane(\"You're standing on a slippery elevation\")"
      ],
      "metadata": {
        "colab": {
          "base_uri": "https://localhost:8080/"
        },
        "id": "Wkvd0uuEz3Pc",
        "outputId": "ecc409d5-74d5-4104-ee8e-3491e05a7fc7"
      },
      "execution_count": 61,
      "outputs": [
        {
          "output_type": "execute_result",
          "data": {
            "text/plain": [
              "False"
            ]
          },
          "metadata": {},
          "execution_count": 61
        }
      ]
    },
    {
      "cell_type": "code",
      "source": [
        "check_profane(\"You're standing on a slippery ascend\")"
      ],
      "metadata": {
        "colab": {
          "base_uri": "https://localhost:8080/"
        },
        "id": "_7e1IdNy0L85",
        "outputId": "eb6e5351-b9b2-4bb2-8f61-48cbac8d0570"
      },
      "execution_count": 63,
      "outputs": [
        {
          "output_type": "execute_result",
          "data": {
            "text/plain": [
              "False"
            ]
          },
          "metadata": {},
          "execution_count": 63
        }
      ]
    },
    {
      "cell_type": "code",
      "source": [
        "check_profane(\"You're standing on a slippery sink\")"
      ],
      "metadata": {
        "colab": {
          "base_uri": "https://localhost:8080/"
        },
        "id": "ZfdUzeNi0SvG",
        "outputId": "d8b18d4f-c995-4899-814e-f32d5fd3e321"
      },
      "execution_count": 65,
      "outputs": [
        {
          "output_type": "execute_result",
          "data": {
            "text/plain": [
              "False"
            ]
          },
          "metadata": {},
          "execution_count": 65
        }
      ]
    },
    {
      "cell_type": "code",
      "source": [
        "check_profane(\"been working hard on\")"
      ],
      "metadata": {
        "colab": {
          "base_uri": "https://localhost:8080/"
        },
        "id": "9Thpc0Px2CBt",
        "outputId": "f0fa83ee-addb-40b9-f766-da95ee886ad4"
      },
      "execution_count": 85,
      "outputs": [
        {
          "output_type": "execute_result",
          "data": {
            "text/plain": [
              "True"
            ]
          },
          "metadata": {},
          "execution_count": 85
        }
      ]
    },
    {
      "cell_type": "code",
      "source": [
        "check_profane(\"working hard on\")"
      ],
      "metadata": {
        "colab": {
          "base_uri": "https://localhost:8080/"
        },
        "id": "rkzZiqxX2Pwx",
        "outputId": "02b4713a-b594-4cde-d0f1-cceb9f2f9af1"
      },
      "execution_count": 86,
      "outputs": [
        {
          "output_type": "execute_result",
          "data": {
            "text/plain": [
              "True"
            ]
          },
          "metadata": {},
          "execution_count": 86
        }
      ]
    },
    {
      "cell_type": "code",
      "source": [
        "check_profane(\"hard on\")"
      ],
      "metadata": {
        "colab": {
          "base_uri": "https://localhost:8080/"
        },
        "id": "exmYnJsw2R4m",
        "outputId": "3c1e8f04-5a48-4e06-b3ce-15979394fdb8"
      },
      "execution_count": 87,
      "outputs": [
        {
          "output_type": "execute_result",
          "data": {
            "text/plain": [
              "True"
            ]
          },
          "metadata": {},
          "execution_count": 87
        }
      ]
    },
    {
      "cell_type": "code",
      "source": [
        "check_profane(\"been working hard on improving my plating, hopefully slowly getting there... #chefslife #newcareer #learning \tTrue\")"
      ],
      "metadata": {
        "colab": {
          "base_uri": "https://localhost:8080/"
        },
        "id": "9WHMhOAvzv3n",
        "outputId": "510a3588-6302-4d6a-8239-a7da47a32f81"
      },
      "execution_count": 80,
      "outputs": [
        {
          "output_type": "execute_result",
          "data": {
            "text/plain": [
              "True"
            ]
          },
          "metadata": {},
          "execution_count": 80
        }
      ]
    },
    {
      "cell_type": "code",
      "source": [
        "check_profane(\"happy hump day!\")"
      ],
      "metadata": {
        "colab": {
          "base_uri": "https://localhost:8080/"
        },
        "id": "a2FVVnok2lQH",
        "outputId": "c3bf6d95-17ae-4425-973a-2b038e58d3fd"
      },
      "execution_count": 89,
      "outputs": [
        {
          "output_type": "execute_result",
          "data": {
            "text/plain": [
              "True"
            ]
          },
          "metadata": {},
          "execution_count": 89
        }
      ]
    },
    {
      "cell_type": "code",
      "source": [
        "check_profane(\"hump\")"
      ],
      "metadata": {
        "colab": {
          "base_uri": "https://localhost:8080/"
        },
        "id": "7kk6zuyq2oAS",
        "outputId": "b98d941f-e052-47c0-eae0-d7bc8e0bc5cc"
      },
      "execution_count": 91,
      "outputs": [
        {
          "output_type": "execute_result",
          "data": {
            "text/plain": [
              "True"
            ]
          },
          "metadata": {},
          "execution_count": 91
        }
      ]
    },
    {
      "cell_type": "markdown",
      "source": [
        "Example of wrong (Label as 0 not profane at dataset) as the Model predicts this as 1 profane i.e True"
      ],
      "metadata": {
        "id": "LgNuVq4pyh3F"
      }
    },
    {
      "cell_type": "code",
      "source": [
        "check_profane(\"It's stuff like this that makes black people look retarded. It's not expressing yourself its stupidity\")"
      ],
      "metadata": {
        "colab": {
          "base_uri": "https://localhost:8080/"
        },
        "id": "IdSMyQ-IyOXw",
        "outputId": "dc1e3856-77a0-45cc-c401-33018e5ff85d"
      },
      "execution_count": 48,
      "outputs": [
        {
          "output_type": "execute_result",
          "data": {
            "text/plain": [
              "True"
            ]
          },
          "metadata": {},
          "execution_count": 48
        }
      ]
    },
    {
      "cell_type": "markdown",
      "source": [
        "Example of wrong label as 1 at dataset as the model predicts this as 0 i.e False"
      ],
      "metadata": {
        "id": "FGmubWtt4SHC"
      }
    },
    {
      "cell_type": "code",
      "source": [
        "check_profane(\"@user comment on @user reveals once more the disgusting reality of and #stupidity in @user circle #trump \t0\")"
      ],
      "metadata": {
        "colab": {
          "base_uri": "https://localhost:8080/"
        },
        "id": "LEVKQpzf4BcM",
        "outputId": "c8eb2fd4-3483-4f03-dea3-96ac4f203365"
      },
      "execution_count": 96,
      "outputs": [
        {
          "output_type": "execute_result",
          "data": {
            "text/plain": [
              "False"
            ]
          },
          "metadata": {},
          "execution_count": 96
        }
      ]
    },
    {
      "cell_type": "code",
      "source": [
        "fp_fdf = get_fp_or_fn(df=fdfone_result,gtlabelcol='label',predcol='has_profanity')\n"
      ],
      "metadata": {
        "colab": {
          "base_uri": "https://localhost:8080/"
        },
        "id": "Um6ajnd1mrev",
        "outputId": "9f2d900e-9b4a-46d8-dc56-be9436cc7a6d"
      },
      "execution_count": 40,
      "outputs": [
        {
          "output_type": "stream",
          "name": "stdout",
          "text": [
            "observed shape of false positive(309, 9)\n"
          ]
        }
      ]
    },
    {
      "cell_type": "code",
      "source": [
        "fn_fdf = get_fp_or_fn(df=fdfone_result,gtlabelcol='label',predcol='has_profanity',fn=True, fp=False)"
      ],
      "metadata": {
        "id": "LTZnpEBn3ig5"
      },
      "execution_count": null,
      "outputs": []
    },
    {
      "cell_type": "code",
      "source": [
        "fn_fdf.head(10)"
      ],
      "metadata": {
        "colab": {
          "base_uri": "https://localhost:8080/",
          "height": 936
        },
        "id": "kRT7-GmrwTYF",
        "outputId": "6975eaa8-104d-4ee0-ad2d-51305ae8a944"
      },
      "execution_count": 95,
      "outputs": [
        {
          "output_type": "execute_result",
          "data": {
            "text/plain": [
              "     Unnamed: 0                                                                                                                                                  text  label language  \\\n",
              "108       33633                                             @user comment on @user reveals once more the disgusting reality of  and #stupidity in @user circle #trump      1  English   \n",
              "160       59212  RT @Bidenshairplugs: Number of women denied birth control by Hobby Lobby: 0\\n\\nNumber of Democrat retards butthurt by the verdict: 30,000,000&#8230;      1  English   \n",
              "185       19672                                                                                                             Tarzan out dis hoe http://t.co/LGmSbs4s68      1  English   \n",
              "238       33285                                                               @user #allahsoil uae hosts the most innovative architecture in the world.     â¦  â¦       1  English   \n",
              "252       12862                                                RT @SexualGif: when you see a hoe talking to bae but she not even on your level http://t.co/DphkPab4c7      1  English   \n",
              "441       10049                                                                                                                destroyed in one minute #janeelliot         1  English   \n",
              "510       16343                                                                                       @AirSimba9 I don't be on the hoes but these hoes on my snapchat      1  English   \n",
              "598       32754                              RT @mabelsay: Hoes be calling hoes, hoes, when they know they just as much of a hoe as the other hoe they calling a hoe.      1  English   \n",
              "612       52532                                                                                                        no paper hoe, but you can have some more of me      1  English   \n",
              "681       52839                                                              RT @CzarofSwag: To the retards chanting USA at the FC Dallas game, Kansas is in the USA.      1  English   \n",
              "\n",
              "                                                                                                                                                cleantext  profanity_result  \\\n",
              "108                                             @user comment on @user reveals once more the disgusting reality of  and #stupidity in @user circle #trump             False   \n",
              "160  RT @Bidenshairplugs: Number of women denied birth control by Hobby Lobby: 0\\n\\nNumber of Democrat retards butthurt by the verdict: 30,000,000&#8230;             False   \n",
              "185                                                                                                             Tarzan out dis hoe http://t.co/LGmSbs4s68             False   \n",
              "238                                                                     @user #allahsoil uae hosts the most innovative architecture in the world.                     False   \n",
              "252                                                RT @SexualGif: when you see a hoe talking to bae but she not even on your level http://t.co/DphkPab4c7             False   \n",
              "441                                                                                                                destroyed in one minute #janeelliot                False   \n",
              "510                                                                                       @AirSimba9 I don't be on the hoes but these hoes on my snapchat             False   \n",
              "598                              RT @mabelsay: Hoes be calling hoes, hoes, when they know they just as much of a hoe as the other hoe they calling a hoe.             False   \n",
              "612                                                                                                        no paper hoe, but you can have some more of me             False   \n",
              "681                                                              RT @CzarofSwag: To the retards chanting USA at the FC Dallas game, Kansas is in the USA.             False   \n",
              "\n",
              "                                                                                                                                            censored_text  has_profanity  match  \n",
              "108                                             @user comment on @user reveals once more the disgusting reality of  and #stupidity in @user circle #trump              0  False  \n",
              "160  RT @Bidenshairplugs: Number of women denied birth control by Hobby Lobby: 0\\n\\nNumber of Democrat retards butthurt by the verdict: 30,000,000&#8230;              0  False  \n",
              "185                                                                                                             Tarzan out dis hoe http://t.co/LGmSbs4s68              0  False  \n",
              "238                                                                     @user #allahsoil uae hosts the most innovative architecture in the world.                      0  False  \n",
              "252                                                RT @SexualGif: when you see a hoe talking to bae but she not even on your level http://t.co/DphkPab4c7              0  False  \n",
              "441                                                                                                                destroyed in one minute #janeelliot                 0  False  \n",
              "510                                                                                       @AirSimba9 I don't be on the hoes but these hoes on my snapchat              0  False  \n",
              "598                              RT @mabelsay: Hoes be calling hoes, hoes, when they know they just as much of a hoe as the other hoe they calling a hoe.              0  False  \n",
              "612                                                                                                        no paper hoe, but you can have some more of me              0  False  \n",
              "681                                                              RT @CzarofSwag: To the retards chanting USA at the FC Dallas game, Kansas is in the USA.              0  False  "
            ],
            "text/html": [
              "\n",
              "  <div id=\"df-9fee1695-e374-4510-90eb-2acb9bfe50f9\" class=\"colab-df-container\">\n",
              "    <div>\n",
              "<style scoped>\n",
              "    .dataframe tbody tr th:only-of-type {\n",
              "        vertical-align: middle;\n",
              "    }\n",
              "\n",
              "    .dataframe tbody tr th {\n",
              "        vertical-align: top;\n",
              "    }\n",
              "\n",
              "    .dataframe thead th {\n",
              "        text-align: right;\n",
              "    }\n",
              "</style>\n",
              "<table border=\"1\" class=\"dataframe\">\n",
              "  <thead>\n",
              "    <tr style=\"text-align: right;\">\n",
              "      <th></th>\n",
              "      <th>Unnamed: 0</th>\n",
              "      <th>text</th>\n",
              "      <th>label</th>\n",
              "      <th>language</th>\n",
              "      <th>cleantext</th>\n",
              "      <th>profanity_result</th>\n",
              "      <th>censored_text</th>\n",
              "      <th>has_profanity</th>\n",
              "      <th>match</th>\n",
              "    </tr>\n",
              "  </thead>\n",
              "  <tbody>\n",
              "    <tr>\n",
              "      <th>108</th>\n",
              "      <td>33633</td>\n",
              "      <td>@user comment on @user reveals once more the disgusting reality of  and #stupidity in @user circle #trump</td>\n",
              "      <td>1</td>\n",
              "      <td>English</td>\n",
              "      <td>@user comment on @user reveals once more the disgusting reality of  and #stupidity in @user circle #trump</td>\n",
              "      <td>False</td>\n",
              "      <td>@user comment on @user reveals once more the disgusting reality of  and #stupidity in @user circle #trump</td>\n",
              "      <td>0</td>\n",
              "      <td>False</td>\n",
              "    </tr>\n",
              "    <tr>\n",
              "      <th>160</th>\n",
              "      <td>59212</td>\n",
              "      <td>RT @Bidenshairplugs: Number of women denied birth control by Hobby Lobby: 0\\n\\nNumber of Democrat retards butthurt by the verdict: 30,000,000&amp;#8230;</td>\n",
              "      <td>1</td>\n",
              "      <td>English</td>\n",
              "      <td>RT @Bidenshairplugs: Number of women denied birth control by Hobby Lobby: 0\\n\\nNumber of Democrat retards butthurt by the verdict: 30,000,000&amp;#8230;</td>\n",
              "      <td>False</td>\n",
              "      <td>RT @Bidenshairplugs: Number of women denied birth control by Hobby Lobby: 0\\n\\nNumber of Democrat retards butthurt by the verdict: 30,000,000&amp;#8230;</td>\n",
              "      <td>0</td>\n",
              "      <td>False</td>\n",
              "    </tr>\n",
              "    <tr>\n",
              "      <th>185</th>\n",
              "      <td>19672</td>\n",
              "      <td>Tarzan out dis hoe http://t.co/LGmSbs4s68</td>\n",
              "      <td>1</td>\n",
              "      <td>English</td>\n",
              "      <td>Tarzan out dis hoe http://t.co/LGmSbs4s68</td>\n",
              "      <td>False</td>\n",
              "      <td>Tarzan out dis hoe http://t.co/LGmSbs4s68</td>\n",
              "      <td>0</td>\n",
              "      <td>False</td>\n",
              "    </tr>\n",
              "    <tr>\n",
              "      <th>238</th>\n",
              "      <td>33285</td>\n",
              "      <td>@user #allahsoil uae hosts the most innovative architecture in the world.     â¦  â¦</td>\n",
              "      <td>1</td>\n",
              "      <td>English</td>\n",
              "      <td>@user #allahsoil uae hosts the most innovative architecture in the world.</td>\n",
              "      <td>False</td>\n",
              "      <td>@user #allahsoil uae hosts the most innovative architecture in the world.</td>\n",
              "      <td>0</td>\n",
              "      <td>False</td>\n",
              "    </tr>\n",
              "    <tr>\n",
              "      <th>252</th>\n",
              "      <td>12862</td>\n",
              "      <td>RT @SexualGif: when you see a hoe talking to bae but she not even on your level http://t.co/DphkPab4c7</td>\n",
              "      <td>1</td>\n",
              "      <td>English</td>\n",
              "      <td>RT @SexualGif: when you see a hoe talking to bae but she not even on your level http://t.co/DphkPab4c7</td>\n",
              "      <td>False</td>\n",
              "      <td>RT @SexualGif: when you see a hoe talking to bae but she not even on your level http://t.co/DphkPab4c7</td>\n",
              "      <td>0</td>\n",
              "      <td>False</td>\n",
              "    </tr>\n",
              "    <tr>\n",
              "      <th>441</th>\n",
              "      <td>10049</td>\n",
              "      <td>destroyed in one minute #janeelliot</td>\n",
              "      <td>1</td>\n",
              "      <td>English</td>\n",
              "      <td>destroyed in one minute #janeelliot</td>\n",
              "      <td>False</td>\n",
              "      <td>destroyed in one minute #janeelliot</td>\n",
              "      <td>0</td>\n",
              "      <td>False</td>\n",
              "    </tr>\n",
              "    <tr>\n",
              "      <th>510</th>\n",
              "      <td>16343</td>\n",
              "      <td>@AirSimba9 I don't be on the hoes but these hoes on my snapchat</td>\n",
              "      <td>1</td>\n",
              "      <td>English</td>\n",
              "      <td>@AirSimba9 I don't be on the hoes but these hoes on my snapchat</td>\n",
              "      <td>False</td>\n",
              "      <td>@AirSimba9 I don't be on the hoes but these hoes on my snapchat</td>\n",
              "      <td>0</td>\n",
              "      <td>False</td>\n",
              "    </tr>\n",
              "    <tr>\n",
              "      <th>598</th>\n",
              "      <td>32754</td>\n",
              "      <td>RT @mabelsay: Hoes be calling hoes, hoes, when they know they just as much of a hoe as the other hoe they calling a hoe.</td>\n",
              "      <td>1</td>\n",
              "      <td>English</td>\n",
              "      <td>RT @mabelsay: Hoes be calling hoes, hoes, when they know they just as much of a hoe as the other hoe they calling a hoe.</td>\n",
              "      <td>False</td>\n",
              "      <td>RT @mabelsay: Hoes be calling hoes, hoes, when they know they just as much of a hoe as the other hoe they calling a hoe.</td>\n",
              "      <td>0</td>\n",
              "      <td>False</td>\n",
              "    </tr>\n",
              "    <tr>\n",
              "      <th>612</th>\n",
              "      <td>52532</td>\n",
              "      <td>no paper hoe, but you can have some more of me</td>\n",
              "      <td>1</td>\n",
              "      <td>English</td>\n",
              "      <td>no paper hoe, but you can have some more of me</td>\n",
              "      <td>False</td>\n",
              "      <td>no paper hoe, but you can have some more of me</td>\n",
              "      <td>0</td>\n",
              "      <td>False</td>\n",
              "    </tr>\n",
              "    <tr>\n",
              "      <th>681</th>\n",
              "      <td>52839</td>\n",
              "      <td>RT @CzarofSwag: To the retards chanting USA at the FC Dallas game, Kansas is in the USA.</td>\n",
              "      <td>1</td>\n",
              "      <td>English</td>\n",
              "      <td>RT @CzarofSwag: To the retards chanting USA at the FC Dallas game, Kansas is in the USA.</td>\n",
              "      <td>False</td>\n",
              "      <td>RT @CzarofSwag: To the retards chanting USA at the FC Dallas game, Kansas is in the USA.</td>\n",
              "      <td>0</td>\n",
              "      <td>False</td>\n",
              "    </tr>\n",
              "  </tbody>\n",
              "</table>\n",
              "</div>\n",
              "    <div class=\"colab-df-buttons\">\n",
              "\n",
              "  <div class=\"colab-df-container\">\n",
              "    <button class=\"colab-df-convert\" onclick=\"convertToInteractive('df-9fee1695-e374-4510-90eb-2acb9bfe50f9')\"\n",
              "            title=\"Convert this dataframe to an interactive table.\"\n",
              "            style=\"display:none;\">\n",
              "\n",
              "  <svg xmlns=\"http://www.w3.org/2000/svg\" height=\"24px\" viewBox=\"0 -960 960 960\">\n",
              "    <path d=\"M120-120v-720h720v720H120Zm60-500h600v-160H180v160Zm220 220h160v-160H400v160Zm0 220h160v-160H400v160ZM180-400h160v-160H180v160Zm440 0h160v-160H620v160ZM180-180h160v-160H180v160Zm440 0h160v-160H620v160Z\"/>\n",
              "  </svg>\n",
              "    </button>\n",
              "\n",
              "  <style>\n",
              "    .colab-df-container {\n",
              "      display:flex;\n",
              "      gap: 12px;\n",
              "    }\n",
              "\n",
              "    .colab-df-convert {\n",
              "      background-color: #E8F0FE;\n",
              "      border: none;\n",
              "      border-radius: 50%;\n",
              "      cursor: pointer;\n",
              "      display: none;\n",
              "      fill: #1967D2;\n",
              "      height: 32px;\n",
              "      padding: 0 0 0 0;\n",
              "      width: 32px;\n",
              "    }\n",
              "\n",
              "    .colab-df-convert:hover {\n",
              "      background-color: #E2EBFA;\n",
              "      box-shadow: 0px 1px 2px rgba(60, 64, 67, 0.3), 0px 1px 3px 1px rgba(60, 64, 67, 0.15);\n",
              "      fill: #174EA6;\n",
              "    }\n",
              "\n",
              "    .colab-df-buttons div {\n",
              "      margin-bottom: 4px;\n",
              "    }\n",
              "\n",
              "    [theme=dark] .colab-df-convert {\n",
              "      background-color: #3B4455;\n",
              "      fill: #D2E3FC;\n",
              "    }\n",
              "\n",
              "    [theme=dark] .colab-df-convert:hover {\n",
              "      background-color: #434B5C;\n",
              "      box-shadow: 0px 1px 3px 1px rgba(0, 0, 0, 0.15);\n",
              "      filter: drop-shadow(0px 1px 2px rgba(0, 0, 0, 0.3));\n",
              "      fill: #FFFFFF;\n",
              "    }\n",
              "  </style>\n",
              "\n",
              "    <script>\n",
              "      const buttonEl =\n",
              "        document.querySelector('#df-9fee1695-e374-4510-90eb-2acb9bfe50f9 button.colab-df-convert');\n",
              "      buttonEl.style.display =\n",
              "        google.colab.kernel.accessAllowed ? 'block' : 'none';\n",
              "\n",
              "      async function convertToInteractive(key) {\n",
              "        const element = document.querySelector('#df-9fee1695-e374-4510-90eb-2acb9bfe50f9');\n",
              "        const dataTable =\n",
              "          await google.colab.kernel.invokeFunction('convertToInteractive',\n",
              "                                                    [key], {});\n",
              "        if (!dataTable) return;\n",
              "\n",
              "        const docLinkHtml = 'Like what you see? Visit the ' +\n",
              "          '<a target=\"_blank\" href=https://colab.research.google.com/notebooks/data_table.ipynb>data table notebook</a>'\n",
              "          + ' to learn more about interactive tables.';\n",
              "        element.innerHTML = '';\n",
              "        dataTable['output_type'] = 'display_data';\n",
              "        await google.colab.output.renderOutput(dataTable, element);\n",
              "        const docLink = document.createElement('div');\n",
              "        docLink.innerHTML = docLinkHtml;\n",
              "        element.appendChild(docLink);\n",
              "      }\n",
              "    </script>\n",
              "  </div>\n",
              "\n",
              "\n",
              "<div id=\"df-06f1b25e-e368-461b-b21b-78a04a1e4abb\">\n",
              "  <button class=\"colab-df-quickchart\" onclick=\"quickchart('df-06f1b25e-e368-461b-b21b-78a04a1e4abb')\"\n",
              "            title=\"Suggest charts\"\n",
              "            style=\"display:none;\">\n",
              "\n",
              "<svg xmlns=\"http://www.w3.org/2000/svg\" height=\"24px\"viewBox=\"0 0 24 24\"\n",
              "     width=\"24px\">\n",
              "    <g>\n",
              "        <path d=\"M19 3H5c-1.1 0-2 .9-2 2v14c0 1.1.9 2 2 2h14c1.1 0 2-.9 2-2V5c0-1.1-.9-2-2-2zM9 17H7v-7h2v7zm4 0h-2V7h2v10zm4 0h-2v-4h2v4z\"/>\n",
              "    </g>\n",
              "</svg>\n",
              "  </button>\n",
              "\n",
              "<style>\n",
              "  .colab-df-quickchart {\n",
              "      --bg-color: #E8F0FE;\n",
              "      --fill-color: #1967D2;\n",
              "      --hover-bg-color: #E2EBFA;\n",
              "      --hover-fill-color: #174EA6;\n",
              "      --disabled-fill-color: #AAA;\n",
              "      --disabled-bg-color: #DDD;\n",
              "  }\n",
              "\n",
              "  [theme=dark] .colab-df-quickchart {\n",
              "      --bg-color: #3B4455;\n",
              "      --fill-color: #D2E3FC;\n",
              "      --hover-bg-color: #434B5C;\n",
              "      --hover-fill-color: #FFFFFF;\n",
              "      --disabled-bg-color: #3B4455;\n",
              "      --disabled-fill-color: #666;\n",
              "  }\n",
              "\n",
              "  .colab-df-quickchart {\n",
              "    background-color: var(--bg-color);\n",
              "    border: none;\n",
              "    border-radius: 50%;\n",
              "    cursor: pointer;\n",
              "    display: none;\n",
              "    fill: var(--fill-color);\n",
              "    height: 32px;\n",
              "    padding: 0;\n",
              "    width: 32px;\n",
              "  }\n",
              "\n",
              "  .colab-df-quickchart:hover {\n",
              "    background-color: var(--hover-bg-color);\n",
              "    box-shadow: 0 1px 2px rgba(60, 64, 67, 0.3), 0 1px 3px 1px rgba(60, 64, 67, 0.15);\n",
              "    fill: var(--button-hover-fill-color);\n",
              "  }\n",
              "\n",
              "  .colab-df-quickchart-complete:disabled,\n",
              "  .colab-df-quickchart-complete:disabled:hover {\n",
              "    background-color: var(--disabled-bg-color);\n",
              "    fill: var(--disabled-fill-color);\n",
              "    box-shadow: none;\n",
              "  }\n",
              "\n",
              "  .colab-df-spinner {\n",
              "    border: 2px solid var(--fill-color);\n",
              "    border-color: transparent;\n",
              "    border-bottom-color: var(--fill-color);\n",
              "    animation:\n",
              "      spin 1s steps(1) infinite;\n",
              "  }\n",
              "\n",
              "  @keyframes spin {\n",
              "    0% {\n",
              "      border-color: transparent;\n",
              "      border-bottom-color: var(--fill-color);\n",
              "      border-left-color: var(--fill-color);\n",
              "    }\n",
              "    20% {\n",
              "      border-color: transparent;\n",
              "      border-left-color: var(--fill-color);\n",
              "      border-top-color: var(--fill-color);\n",
              "    }\n",
              "    30% {\n",
              "      border-color: transparent;\n",
              "      border-left-color: var(--fill-color);\n",
              "      border-top-color: var(--fill-color);\n",
              "      border-right-color: var(--fill-color);\n",
              "    }\n",
              "    40% {\n",
              "      border-color: transparent;\n",
              "      border-right-color: var(--fill-color);\n",
              "      border-top-color: var(--fill-color);\n",
              "    }\n",
              "    60% {\n",
              "      border-color: transparent;\n",
              "      border-right-color: var(--fill-color);\n",
              "    }\n",
              "    80% {\n",
              "      border-color: transparent;\n",
              "      border-right-color: var(--fill-color);\n",
              "      border-bottom-color: var(--fill-color);\n",
              "    }\n",
              "    90% {\n",
              "      border-color: transparent;\n",
              "      border-bottom-color: var(--fill-color);\n",
              "    }\n",
              "  }\n",
              "</style>\n",
              "\n",
              "  <script>\n",
              "    async function quickchart(key) {\n",
              "      const quickchartButtonEl =\n",
              "        document.querySelector('#' + key + ' button');\n",
              "      quickchartButtonEl.disabled = true;  // To prevent multiple clicks.\n",
              "      quickchartButtonEl.classList.add('colab-df-spinner');\n",
              "      try {\n",
              "        const charts = await google.colab.kernel.invokeFunction(\n",
              "            'suggestCharts', [key], {});\n",
              "      } catch (error) {\n",
              "        console.error('Error during call to suggestCharts:', error);\n",
              "      }\n",
              "      quickchartButtonEl.classList.remove('colab-df-spinner');\n",
              "      quickchartButtonEl.classList.add('colab-df-quickchart-complete');\n",
              "    }\n",
              "    (() => {\n",
              "      let quickchartButtonEl =\n",
              "        document.querySelector('#df-06f1b25e-e368-461b-b21b-78a04a1e4abb button');\n",
              "      quickchartButtonEl.style.display =\n",
              "        google.colab.kernel.accessAllowed ? 'block' : 'none';\n",
              "    })();\n",
              "  </script>\n",
              "</div>\n",
              "\n",
              "    </div>\n",
              "  </div>\n"
            ],
            "application/vnd.google.colaboratory.intrinsic+json": {
              "type": "dataframe",
              "variable_name": "fn_fdf",
              "summary": "{\n  \"name\": \"fn_fdf\",\n  \"rows\": 805,\n  \"fields\": [\n    {\n      \"column\": \"Unnamed: 0\",\n      \"properties\": {\n        \"dtype\": \"number\",\n        \"std\": 20528,\n        \"min\": 46,\n        \"max\": 69966,\n        \"num_unique_values\": 805,\n        \"samples\": [\n          69909,\n          49495,\n          39448\n        ],\n        \"semantic_type\": \"\",\n        \"description\": \"\"\n      }\n    },\n    {\n      \"column\": \"text\",\n      \"properties\": {\n        \"dtype\": \"string\",\n        \"num_unique_values\": 787,\n        \"samples\": [\n          \"Lol Sam said \\\"Betty Boop\\\" is a hoe &#128514;\",\n          \"&#8220;@TreMelvin: hoes be like \\\"omg i love my new comb &#10084;&#65039;\\\" http://t.co/nuYjUx1SK3&#8221; thought this was Perro\",\n          \"RT @Swizzzy: I know she a hoe if she believe in astrology.. Ima make a sign for that.\"\n        ],\n        \"semantic_type\": \"\",\n        \"description\": \"\"\n      }\n    },\n    {\n      \"column\": \"label\",\n      \"properties\": {\n        \"dtype\": \"number\",\n        \"std\": 0,\n        \"min\": 1,\n        \"max\": 1,\n        \"num_unique_values\": 1,\n        \"samples\": [\n          1\n        ],\n        \"semantic_type\": \"\",\n        \"description\": \"\"\n      }\n    },\n    {\n      \"column\": \"language\",\n      \"properties\": {\n        \"dtype\": \"category\",\n        \"num_unique_values\": 1,\n        \"samples\": [\n          \"English\"\n        ],\n        \"semantic_type\": \"\",\n        \"description\": \"\"\n      }\n    },\n    {\n      \"column\": \"cleantext\",\n      \"properties\": {\n        \"dtype\": \"string\",\n        \"num_unique_values\": 787,\n        \"samples\": [\n          \"Lol Sam said \\\"Betty Boop\\\" is a hoe &#128514;\"\n        ],\n        \"semantic_type\": \"\",\n        \"description\": \"\"\n      }\n    },\n    {\n      \"column\": \"profanity_result\",\n      \"properties\": {\n        \"dtype\": \"boolean\",\n        \"num_unique_values\": 1,\n        \"samples\": [\n          false\n        ],\n        \"semantic_type\": \"\",\n        \"description\": \"\"\n      }\n    },\n    {\n      \"column\": \"censored_text\",\n      \"properties\": {\n        \"dtype\": \"string\",\n        \"num_unique_values\": 787,\n        \"samples\": [\n          \"Lol Sam said \\\"Betty Boop\\\" is a hoe &#128514;\"\n        ],\n        \"semantic_type\": \"\",\n        \"description\": \"\"\n      }\n    },\n    {\n      \"column\": \"has_profanity\",\n      \"properties\": {\n        \"dtype\": \"number\",\n        \"std\": 0,\n        \"min\": 0,\n        \"max\": 0,\n        \"num_unique_values\": 1,\n        \"samples\": [\n          0\n        ],\n        \"semantic_type\": \"\",\n        \"description\": \"\"\n      }\n    },\n    {\n      \"column\": \"match\",\n      \"properties\": {\n        \"dtype\": \"boolean\",\n        \"num_unique_values\": 1,\n        \"samples\": [\n          false\n        ],\n        \"semantic_type\": \"\",\n        \"description\": \"\"\n      }\n    }\n  ]\n}"
            }
          },
          "metadata": {},
          "execution_count": 95
        }
      ]
    },
    {
      "cell_type": "code",
      "source": [
        "calculate_metrics(df=fdfone_result,truecol='label',predcol='has_profanity')"
      ],
      "metadata": {
        "colab": {
          "base_uri": "https://localhost:8080/"
        },
        "id": "1WgBZps5jRx1",
        "outputId": "9e6ed621-ee27-4fc1-91ee-745d4f1a345c"
      },
      "execution_count": 93,
      "outputs": [
        {
          "output_type": "execute_result",
          "data": {
            "text/plain": [
              "{'Accuracy': '0.8598',\n",
              " 'Precision': '0.8871',\n",
              " 'Recall': '0.7511',\n",
              " 'F1_score_cal': '0.8135',\n",
              " 'true_negative': 4403,\n",
              " 'true_postive': 2429,\n",
              " 'false_negative': 805,\n",
              " 'false_positive': 309}"
            ]
          },
          "metadata": {},
          "execution_count": 93
        }
      ]
    },
    {
      "cell_type": "code",
      "source": [
        "profanity.contains_profanity('Rosco would get jealous though.')"
      ],
      "metadata": {
        "colab": {
          "base_uri": "https://localhost:8080/"
        },
        "id": "8841mA9MMGRO",
        "outputId": "ddc52359-93a4-4ab6-fa7a-fdeef80bc49c"
      },
      "execution_count": 33,
      "outputs": [
        {
          "output_type": "execute_result",
          "data": {
            "text/plain": [
              "False"
            ]
          },
          "metadata": {},
          "execution_count": 33
        }
      ]
    },
    {
      "cell_type": "code",
      "execution_count": 21,
      "metadata": {
        "id": "o4Te2FnPLZRX"
      },
      "outputs": [],
      "source": [
        "df = pd.read_csv('/content/toxic_chat_english.csv', engine='python')\n",
        "filtered_df = df[df.index.isin([9194])]"
      ]
    },
    {
      "cell_type": "code",
      "execution_count": null,
      "metadata": {
        "id": "oY9XMOZAMb-d"
      },
      "outputs": [],
      "source": [
        "filtered_df"
      ]
    },
    {
      "cell_type": "code",
      "execution_count": null,
      "metadata": {
        "colab": {
          "base_uri": "https://localhost:8080/"
        },
        "id": "KQEduqj0Mf7v",
        "outputId": "187e6981-a416-4e02-8f49-572107624018"
      },
      "outputs": [
        {
          "output_type": "stream",
          "name": "stdout",
          "text": [
            "False\n"
          ]
        }
      ],
      "source": [
        "result = profanity.contains_profanity(filtered_df['user_input'].values[0])\n",
        "print(result)"
      ]
    },
    {
      "cell_type": "code",
      "execution_count": null,
      "metadata": {
        "colab": {
          "base_uri": "https://localhost:8080/"
        },
        "id": "O79VfYXZNplv",
        "outputId": "0e36a260-3ab9-4e00-c6fa-17336a288740"
      },
      "outputs": [
        {
          "output_type": "stream",
          "name": "stderr",
          "text": [
            "INFO:root:does not contain profanity\n"
          ]
        },
        {
          "output_type": "stream",
          "name": "stdout",
          "text": [
            "{'contextpassed': 'How to get the best rating', 'has_profanity': 0, 'censored_context': None}\n"
          ]
        }
      ],
      "source": [
        "evaldict = evaluatesentenceprofanity(contextstr=filtered_df['user_input'].values[0])\n",
        "print(evaldict)"
      ]
    },
    {
      "cell_type": "code",
      "execution_count": null,
      "metadata": {
        "colab": {
          "base_uri": "https://localhost:8080/"
        },
        "id": "UIVKEyVpQoLQ",
        "outputId": "ebcdc013-5afc-49a6-f661-51de75311f65"
      },
      "outputs": [
        {
          "output_type": "stream",
          "name": "stderr",
          "text": [
            "ERROR:root:contains profanity\n"
          ]
        },
        {
          "output_type": "stream",
          "name": "stdout",
          "text": [
            "{'contextpassed': 'I hate this shit so much', 'has_profanity': 1}\n"
          ]
        }
      ],
      "source": [
        "evaldict = evaluatesentenceprofanity(contextstr=\"I hate this shit so much\")\n",
        "print(evaldict)"
      ]
    },
    {
      "cell_type": "code",
      "execution_count": null,
      "metadata": {
        "colab": {
          "base_uri": "https://localhost:8080/"
        },
        "id": "sBgudU-JQv99",
        "outputId": "40460d9a-a3ee-4f76-b13f-bd74469cd16b"
      },
      "outputs": [
        {
          "output_type": "stream",
          "name": "stdout",
          "text": [
            "{'contextpassed': 'I hate this shit so much', 'censored_context': 'I hate this **** so much', 'has_profanity': 0}\n"
          ]
        }
      ],
      "source": [
        "evaldict = evaluatesentenceprofanity(contextstr=\"I hate this shit so much\", censor=True)\n",
        "print(evaldict)"
      ]
    },
    {
      "cell_type": "code",
      "execution_count": null,
      "metadata": {
        "colab": {
          "base_uri": "https://localhost:8080/"
        },
        "id": "T4QMzooBP02a",
        "outputId": "8f5a858b-3b59-42ce-8c4c-7acf9d474c3e"
      },
      "outputs": [
        {
          "output_type": "stream",
          "name": "stderr",
          "text": [
            "INFO:root:does not contain profanity\n"
          ]
        },
        {
          "output_type": "execute_result",
          "data": {
            "text/plain": [
              "{'contextpassed': 'How to get the best rating',\n",
              " 'has_profanity': 0,\n",
              " 'censored_context': None}"
            ]
          },
          "metadata": {},
          "execution_count": 8
        }
      ],
      "source": [
        "evaluatesentenceprofanity(contextstr=filtered_df['user_input'].values[0])"
      ]
    },
    {
      "cell_type": "code",
      "execution_count": null,
      "metadata": {
        "id": "S-RehrlASN3N"
      },
      "outputs": [],
      "source": [
        "fdf = df[df.index.isin([9190,9193, 9195])]\n",
        "fdf.shape\n",
        "result = calculateprofanity(df=fdf, contextstrcol='user_input', censor=True)"
      ]
    },
    {
      "cell_type": "code",
      "source": [],
      "metadata": {
        "id": "7EHInQ1SWpT-"
      },
      "execution_count": null,
      "outputs": []
    },
    {
      "cell_type": "code",
      "execution_count": null,
      "metadata": {
        "colab": {
          "base_uri": "https://localhost:8080/"
        },
        "id": "LsnPkRVGmNo8",
        "outputId": "f1586cd2-3ebd-4c37-d986-dd22659316a1"
      },
      "outputs": [
        {
          "output_type": "stream",
          "name": "stderr",
          "text": [
            "INFO:root:Latency duration in mins : 18.75395363333333\n"
          ]
        }
      ],
      "source": [
        "result = benchmark_profanity(df=df, contextstrcol='user_input', exportfilepath='/content/benchmarkresults/tc_bpf_results.csv')"
      ]
    },
    {
      "cell_type": "code",
      "source": [
        "from profanitychecker import *"
      ],
      "metadata": {
        "id": "dDQmIE4aJo9B"
      },
      "execution_count": null,
      "outputs": []
    },
    {
      "cell_type": "code",
      "execution_count": null,
      "metadata": {
        "id": "ypqzBJL1EQ-_",
        "colab": {
          "base_uri": "https://localhost:8080/"
        },
        "outputId": "dede4fbe-d421-45c0-b3eb-9e5064cbbbc3"
      },
      "outputs": [
        {
          "output_type": "execute_result",
          "data": {
            "text/plain": [
              "{'Accuracy': '0.0774',\n",
              " 'Precision': '0.0774',\n",
              " 'Recall': '1.0000',\n",
              " 'F1_score_cal': '0.1436'}"
            ]
          },
          "metadata": {},
          "execution_count": 12
        }
      ],
      "source": [
        "calculate_metrics(df=df,truecol='toxicity',predcol='has_profanity')"
      ]
    }
  ],
  "metadata": {
    "colab": {
      "provenance": []
    },
    "kernelspec": {
      "display_name": "Python 3",
      "name": "python3"
    },
    "language_info": {
      "name": "python"
    }
  },
  "nbformat": 4,
  "nbformat_minor": 0
}